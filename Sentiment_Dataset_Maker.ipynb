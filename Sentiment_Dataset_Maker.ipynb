{
 "cells": [
  {
   "cell_type": "code",
   "execution_count": 1,
   "metadata": {},
   "outputs": [],
   "source": [
    "import pandas as pd\n",
    "import glob\n",
    "import os\n",
    "import re"
   ]
  },
  {
   "cell_type": "code",
   "execution_count": 2,
   "metadata": {},
   "outputs": [],
   "source": [
    "SCHOOL = \"McGill\"\n",
    "keywords = [\"China\", \"India\", \"Israel\", \"Palestine\"]\n",
    "data_path = f\"journal_data/txt/{SCHOOL}\"\n",
    "output_path = f\"bias_processing/data/1/{SCHOOL.lower()}_dataset.csv\"\n",
    "grouped_data_path = \"grouped_data/csv\""
   ]
  },
  {
   "cell_type": "code",
   "execution_count": 3,
   "metadata": {},
   "outputs": [],
   "source": [
    "# The output DataFrame\n",
    "output_df = pd.DataFrame(columns=[\"date\", \"school\", \"keyword\", \"article\"])\n",
    "\n",
    "# Iterate through the keywords\n",
    "for keyword in keywords:\n",
    "    # Read the corresponding CSV file\n",
    "    df = pd.read_csv(f\"{grouped_data_path}/{SCHOOL}_{keyword}.csv\")\n",
    "\n",
    "    # Iterate through the dates in the DataFrame\n",
    "    for date in df[\"date\"]:\n",
    "        # Format the date in the correct format for the .txt file name\n",
    "        date_formatted = date.replace(\"-\", \"_\")\n",
    "\n",
    "        # Check if the .txt file exists\n",
    "        txt_files = glob.glob(f\"{data_path}/{date_formatted}*.txt\")\n",
    "        if txt_files:\n",
    "            # Open the .txt file and read its content\n",
    "            with open(txt_files[0], \"r\", encoding='utf-8', errors='ignore') as f:\n",
    "                content = f.read()\n",
    "\n",
    "            ## Noah -> Create a new if else block for each school you add to this file\n",
    "            if(SCHOOL == \"McGill\"):\n",
    "                # Split the content by the separator \"The McGill Daily\" repeated twice\n",
    "                articles = content.split(\"The McGill Daily\\nThe McGill Daily\")\n",
    "\n",
    "                # Iterate through the articles and check if the keyword is in the article\n",
    "                for article in articles:\n",
    "                    if keyword.lower() in article.lower():\n",
    "                        # If the keyword is in the article, remove footer and create a new DataFrame and append it to the output DataFrame\n",
    "                        cleaned_article = re.sub(\"Radio\\nDownload file.*Powered by WordPress\", \"\", article, flags=re.DOTALL)\n",
    "                        new_row = pd.DataFrame({\n",
    "                            \"date\": [date],\n",
    "                            \"school\": [SCHOOL],\n",
    "                            \"keyword\": [keyword],\n",
    "                            \"article\": [cleaned_article.strip()]  # Remove leading/trailing white spaces\n",
    "                        })\n",
    "                        output_df = pd.concat([output_df, new_row], ignore_index=True)\n",
    "\n",
    "# Add a line space between each article\n",
    "output_df[\"article\"] = output_df[\"article\"] + \"\\n\"\n",
    "\n",
    "# Save the output DataFrame into a CSV file\n",
    "output_df.to_csv(output_path, index=False)"
   ]
  }
 ],
 "metadata": {
  "kernelspec": {
   "display_name": "Python 3",
   "language": "python",
   "name": "python3"
  },
  "language_info": {
   "codemirror_mode": {
    "name": "ipython",
    "version": 3
   },
   "file_extension": ".py",
   "mimetype": "text/x-python",
   "name": "python",
   "nbconvert_exporter": "python",
   "pygments_lexer": "ipython3",
   "version": "3.9.6"
  },
  "orig_nbformat": 4
 },
 "nbformat": 4,
 "nbformat_minor": 2
}
