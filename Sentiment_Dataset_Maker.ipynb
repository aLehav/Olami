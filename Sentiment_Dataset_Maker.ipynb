{
 "cells": [
  {
   "cell_type": "code",
   "execution_count": 3,
   "metadata": {},
   "outputs": [],
   "source": [
    "import pandas as pd\n",
    "import glob\n",
    "import os\n",
    "import re"
   ]
  },
  {
   "cell_type": "code",
   "execution_count": null,
   "metadata": {},
   "outputs": [],
   "source": [
    "SCHOOL = \"McGill\"\n",
    "keywords = [\"China\", \"India\", \"Israel\", \"Palestine\"]\n",
    "data_path = f\"journal_data/txt/{SCHOOL}\"\n",
    "grouped_data_path = \"grouped_data/csv\""
   ]
  },
  {
   "cell_type": "code",
   "execution_count": 2,
   "metadata": {},
   "outputs": [
    {
     "name": "stdout",
     "output_type": "stream",
     "text": [
      "\n",
      "Human Rights Watch director weighs in on the role of the international community in Rwandan and Sudanese genocides\n",
      "International politics nullified domestic law in Sudan and Rwanda, sites of Africa’s most recent genocides, argued Georgette Gagnon, Executive Director of the Africa division of Human Rights Watch (HRW), at a lecture held by the McGill Centre for Human Rights and Legal Pluralism yesterday.\n",
      "“In our experience, politics trumps law every time,” Gagnon said. “Our advocacy at Human Rights Watch is about taking that into account – not giving into it, but to address it and give our recommendations credibility.”\n",
      "HRW is working in Africa to make politics accountable to law, thereby ensuring that human lives are not sacrificed in a larger political game. The organization performs strategic investigations to uncover human rights violations and hold oppressors accountable for their crimes.\n",
      "Gagnon suggested that political forces were at work in the international community’s reluctance to label the mass killings of nearly one million Rwandans in 1994 as a genocide. She listed Rwanda’s lack of political muscle, oil, gold or other resources; the United States’s recent withdrawal from Somalia; and an overriding sense of racism of the western world as possible causes for international apathy.\n",
      "A similar situation exists with the crisis in Sudan, according to Gagnon, who said United Nations Security Council members from China and Russia have perpetuated the crisis in Sudan because they have a political stake in the oil and arms business in the country, respectively.\n",
      "Gagnon criticized the international community’s impulse to deploy troops to conflict zones when alternative, non-violent methods could be more effective. She suggested that radio jamming – disrupting the signals that in Rwanda were used to spread racial hate and to communicate violent commands to troops – could have been a practical and effective method of intervention. The Pentagon ruled against the tactic, claiming the cost – $8,000 an hour – was too expensive.\n",
      "A law student voiced a concern commonly expressed in developing countries: that non-governmental organizations like HRW hand down universal principles, failing to account for unique political situations. HRW is currently criticized for urging the redress of current Rwandan ruler Paul Kagami, who they claim is keeping the region stable.  Kagami’s government killed 30,000 people in its early years after the genocide.\n",
      "“We don’t interfere with political decisions. All we can say is, impartially, if he is committing war crimes then he should be brought to trial,” Gagnon replied.\n",
      "Gagnon noted that HRW does work with grassroots organizations.\n",
      "“In Africa there are vibrant local human rights communities that are pushing for the same things we are – universal human rights – and we always try to reach out and connect to those.”\n",
      "She also acknowledged that politicians are forced to choose between peace and justice.\n",
      "“The law should be applied impartially. Our job is advocacy and redress, but the more practical and realistic we are, the more likely [our policies will be effective],” Gagnon said. “Thus we should acknowledge our compromise. We say there is no durable peace without justice.”\n",
      "A member of the audience noted that the work of human rights organizations is mainly reactive and reports violations, asking how groups work to prevent human rights abuse.\n",
      "“Everything we do is preventive. It’s corruption, lack of access to resources, nepotism, social and economic violations of rights which lead to this kind of genocide,” Gagnon said.\n",
      " Economic and social legal violations are predictors of political abuse, she added, which is where HRW can help.\n",
      "\n",
      "\n"
     ]
    },
    {
     "ename": "ValueError",
     "evalue": "",
     "output_type": "error",
     "traceback": [
      "\u001b[1;31m---------------------------------------------------------------------------\u001b[0m",
      "\u001b[1;31mValueError\u001b[0m                                Traceback (most recent call last)",
      "Cell \u001b[1;32mIn[2], line 42\u001b[0m\n\u001b[0;32m     40\u001b[0m cleaned_article \u001b[39m=\u001b[39m re\u001b[39m.\u001b[39msub(\u001b[39m\"\u001b[39m\u001b[39mRadio\u001b[39m\u001b[39m\\n\u001b[39;00m\u001b[39mDownload file.*Powered by WordPress\u001b[39m\u001b[39m\"\u001b[39m, \u001b[39m\"\u001b[39m\u001b[39m\"\u001b[39m, article, flags\u001b[39m=\u001b[39mre\u001b[39m.\u001b[39mDOTALL)\n\u001b[0;32m     41\u001b[0m \u001b[39mprint\u001b[39m(cleaned_article)\n\u001b[1;32m---> 42\u001b[0m \u001b[39mraise\u001b[39;00m(\u001b[39mValueError\u001b[39;00m)\n\u001b[0;32m     43\u001b[0m new_row \u001b[39m=\u001b[39m pd\u001b[39m.\u001b[39mDataFrame({\n\u001b[0;32m     44\u001b[0m     \u001b[39m\"\u001b[39m\u001b[39mdate\u001b[39m\u001b[39m\"\u001b[39m: [date],\n\u001b[0;32m     45\u001b[0m     \u001b[39m\"\u001b[39m\u001b[39mschool\u001b[39m\u001b[39m\"\u001b[39m: [\u001b[39m\"\u001b[39m\u001b[39mMcGill\u001b[39m\u001b[39m\"\u001b[39m],\n\u001b[0;32m     46\u001b[0m     \u001b[39m\"\u001b[39m\u001b[39mkeyword\u001b[39m\u001b[39m\"\u001b[39m: [keyword],\n\u001b[0;32m     47\u001b[0m     \u001b[39m\"\u001b[39m\u001b[39marticle\u001b[39m\u001b[39m\"\u001b[39m: [cleaned_article\u001b[39m.\u001b[39mstrip()]  \u001b[39m# Remove leading/trailing white spaces\u001b[39;00m\n\u001b[0;32m     48\u001b[0m })\n\u001b[0;32m     49\u001b[0m output_df \u001b[39m=\u001b[39m pd\u001b[39m.\u001b[39mconcat([output_df, new_row], ignore_index\u001b[39m=\u001b[39m\u001b[39mTrue\u001b[39;00m)\n",
      "\u001b[1;31mValueError\u001b[0m: "
     ]
    }
   ],
   "source": [
    "# The output DataFrame\n",
    "output_df = pd.DataFrame(columns=[\"date\", \"school\", \"keyword\", \"article\"])\n",
    "\n",
    "# Iterate through the keywords\n",
    "for keyword in keywords:\n",
    "    # Read the corresponding CSV file\n",
    "    df = pd.read_csv(f\"{grouped_data_path}/{SCHOOL}_{keyword}.csv\")\n",
    "\n",
    "    # Iterate through the dates in the DataFrame\n",
    "    for date in df[\"date\"]:\n",
    "        # Format the date in the correct format for the .txt file name\n",
    "        date_formatted = date.replace(\"-\", \"_\")\n",
    "\n",
    "        # Check if the .txt file exists\n",
    "        txt_files = glob.glob(f\"{data_path}/{date_formatted}*.txt\")\n",
    "        if txt_files:\n",
    "            # Open the .txt file and read its content\n",
    "            with open(txt_files[0], \"r\", encoding='utf-8', errors='ignore') as f:\n",
    "                content = f.read()\n",
    "\n",
    "            ## Noah -> Create a new if else block for each school you add to this file\n",
    "            if(SCHOOL == \"McGill\"):\n",
    "                # Split the content by the separator \"The McGill Daily\" repeated twice\n",
    "                articles = content.split(\"The McGill Daily\\nThe McGill Daily\")\n",
    "\n",
    "                # Iterate through the articles and check if the keyword is in the article\n",
    "                for article in articles:\n",
    "                    if keyword.lower() in article.lower():\n",
    "                        # If the keyword is in the article, remove footer and create a new DataFrame and append it to the output DataFrame\n",
    "                        cleaned_article = re.sub(\"Radio\\nDownload file.*Powered by WordPress\", \"\", article, flags=re.DOTALL)\n",
    "                        new_row = pd.DataFrame({\n",
    "                            \"date\": [date],\n",
    "                            \"school\": [SCHOOL],\n",
    "                            \"keyword\": [keyword],\n",
    "                            \"article\": [cleaned_article.strip()]  # Remove leading/trailing white spaces\n",
    "                        })\n",
    "                        output_df = pd.concat([output_df, new_row], ignore_index=True)\n",
    "\n",
    "# Add a line space between each article\n",
    "output_df[\"article\"] = output_df[\"article\"] + \"\\n\"\n",
    "\n",
    "# Save the output DataFrame into a CSV file\n",
    "output_df.to_csv(f\"{SCHOOL.lower()}_dataset.csv\", index=False)"
   ]
  }
 ],
 "metadata": {
  "kernelspec": {
   "display_name": "Python 3",
   "language": "python",
   "name": "python3"
  },
  "language_info": {
   "codemirror_mode": {
    "name": "ipython",
    "version": 3
   },
   "file_extension": ".py",
   "mimetype": "text/x-python",
   "name": "python",
   "nbconvert_exporter": "python",
   "pygments_lexer": "ipython3",
   "version": "3.9.6"
  },
  "orig_nbformat": 4
 },
 "nbformat": 4,
 "nbformat_minor": 2
}
