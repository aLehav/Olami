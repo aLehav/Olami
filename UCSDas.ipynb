{
 "cells": [
  {
   "cell_type": "code",
   "execution_count": 10,
   "metadata": {},
   "outputs": [
    {
     "name": "stderr",
     "output_type": "stream",
     "text": [
      "unknown widths : \n",
      "[0, IndirectObject(323, 0, 3047411954784)]\n",
      "unknown widths : \n",
      "[0, IndirectObject(459, 0, 3047411954784)]\n",
      "unknown widths : \n",
      "[0, IndirectObject(735, 0, 3047411954784)]\n",
      "unknown widths : \n",
      "[0, IndirectObject(476, 0, 3047411954784)]\n",
      "unknown widths : \n",
      "[0, IndirectObject(735, 0, 3047411954784)]\n"
     ]
    }
   ],
   "source": [
    "import io\n",
    "import os\n",
    "import json\n",
    "import requests\n",
    "import PyPDF2\n",
    "from helpers.pdf_to_text import extract_pdf_text\n",
    "from helpers.make_txt_entry import make_txt_entry\n",
    "import os\n",
    "\n",
    "\n",
    "\n",
    "# Load the JSON file\n",
    "with open(\"UCSD_article_pages.json\", \"r\") as f:\n",
    "    pdf_information = json.load(f)\n",
    "\n",
    "# Create the output directory if it doesn't exist\n",
    "if not os.path.exists(\"journal_data/txt/UCSD\"):\n",
    "    os.makedirs(\"journal_data/txt/UCSD\")\n",
    "\n",
    "# Loop through each PDF link and extract the text\n",
    "for info in pdf_information:\n",
    "    pdf_full_url = info['pdf_url']\n",
    "    date = info['date']\n",
    "    try:\n",
    "        # Make a GET request to the PDF URL\n",
    "        response = requests.get(pdf_full_url)\n",
    "\n",
    "        # Create a PDF object from the response content\n",
    "        pdf = PyPDF2.PdfReader(io.BytesIO(response.content))\n",
    "\n",
    "        # Extract the text from the PDF object\n",
    "        text = \"\"\n",
    "        for i in range(len(pdf.pages)):\n",
    "            text += pdf.pages[i].extract_text()\n",
    "\n",
    "        # Write the text to a file with the publication date in the filename\n",
    "        if date is not None:\n",
    "            filename = f\"journal_data/txt/UCSD/{date}.txt\"\n",
    "        else:\n",
    "            filename = f\"journal_data/txt/UCSD/unknown_date.txt\"\n",
    "\n",
    "        with open(filename, \"w\", encoding=\"utf-8\") as f:\n",
    "            f.write(text)\n",
    "\n",
    "    except Exception as e:\n",
    "        print(f\"Error: {e}\")\n",
    "        continue\n"
   ]
  }
 ],
 "metadata": {
  "kernelspec": {
   "display_name": "Python 3",
   "language": "python",
   "name": "python3"
  },
  "language_info": {
   "codemirror_mode": {
    "name": "ipython",
    "version": 3
   },
   "file_extension": ".py",
   "mimetype": "text/x-python",
   "name": "python",
   "nbconvert_exporter": "python",
   "pygments_lexer": "ipython3",
   "version": "3.10.11"
  },
  "orig_nbformat": 4
 },
 "nbformat": 4,
 "nbformat_minor": 2
}
