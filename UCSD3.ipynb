{
 "cells": [
  {
   "cell_type": "code",
   "execution_count": 5,
   "metadata": {},
   "outputs": [
    {
     "name": "stdout",
     "output_type": "stream",
     "text": [
      "No PDF links found.\n"
     ]
    }
   ],
   "source": [
    "import requests\n",
    "from bs4 import BeautifulSoup\n",
    "import json\n",
    "import re\n",
    "\n",
    "# Base URL for the UCSD newspaper archives\n",
    "base_url = \"https://library.ucsd.edu/dc/search?f%5Bcollection_sim%5D%5B%5D=UCSD+Guardian&page=\"\n",
    "\n",
    "# List to store all the PDF links\n",
    "pdf_links = []\n",
    "\n",
    "# Loop through all the pages (2-33) and scrape the PDF links\n",
    "for page_num in range(1, 34):\n",
    "    # Construct the URL for the current page\n",
    "    url = base_url + str(page_num) + \"&sort=object_create_dtsi+desc%2C+title_ssi+asc\"\n",
    "\n",
    "    # Make a GET request to the page URL\n",
    "    response = requests.get(url)\n",
    "\n",
    "    # Create a BeautifulSoup object from the response HTML\n",
    "    soup = BeautifulSoup(response.content, 'html.parser')\n",
    "\n",
    "    # Find all the article links on the page\n",
    "    articles = soup.find_all('div', class_='document-title')\n",
    "\n",
    "    # Loop through all the articles and extract the PDF link\n",
    "    for article in articles:\n",
    "        try:\n",
    "            # Extract the relative URL for the article\n",
    "            article_url = article.find('a', class_='original-url')['href']\n",
    "\n",
    "            # Make a GET request to the article URL\n",
    "            article_response = requests.get(article_url)\n",
    "\n",
    "            # Create a BeautifulSoup object from the article response HTML\n",
    "            article_soup = BeautifulSoup(article_response.content, 'html.parser')\n",
    "\n",
    "            # Find the PDF link on the article page\n",
    "            embed_tag = article.find('embed', type='application/x-google-chrome-pdf')\n",
    "            pdf_url = embed_tag['original-url']\n",
    "\n",
    "\n",
    "            # Construct the absolute URL for the PDF file\n",
    "            pdf_full_url = f\"https://library.ucsd.edu{pdf_url}\"\n",
    "\n",
    "            # Extract the date from the PDF URL\n",
    "            date_str = pdf_url.split('/')[-2]\n",
    "            year_str = date_str[:4]\n",
    "            month_str = date_str[4:6]\n",
    "            day_str = date_str[6:]\n",
    "            date = f\"{year_str}-{month_str}-{day_str}\"\n",
    "\n",
    "            # Create a dictionary with the date and PDF URL\n",
    "            pdf_info = {\n",
    "                'date': date,\n",
    "                'pdf_url': pdf_full_url\n",
    "            }\n",
    "\n",
    "            # Append the dictionary to the list of PDF links\n",
    "            pdf_links.append(pdf_info)\n",
    "            print(f\"PDF link found: {pdf_full_url}\")\n",
    "        except (TypeError, AttributeError):\n",
    "            # Skip articles that do not have a PDF link or have invalid HTML\n",
    "            continue\n",
    "\n",
    "# Write the PDF links to a JSON file\n",
    "if len(pdf_links) > 0:\n",
    "    with open('ucsd_article_pages.json', 'w') as f:\n",
    "        json.dump(pdf_links, f, indent=4)\n",
    "else:\n",
    "    print(\"No PDF links found.\")\n"
   ]
  }
 ],
 "metadata": {
  "kernelspec": {
   "display_name": "Python 3",
   "language": "python",
   "name": "python3"
  },
  "language_info": {
   "codemirror_mode": {
    "name": "ipython",
    "version": 3
   },
   "file_extension": ".py",
   "mimetype": "text/x-python",
   "name": "python",
   "nbconvert_exporter": "python",
   "pygments_lexer": "ipython3",
   "version": "3.10.11"
  },
  "orig_nbformat": 4
 },
 "nbformat": 4,
 "nbformat_minor": 2
}
