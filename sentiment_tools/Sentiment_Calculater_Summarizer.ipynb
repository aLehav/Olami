{
 "cells": [
  {
   "cell_type": "code",
   "execution_count": null,
   "metadata": {},
   "outputs": [],
   "source": [
    "SCHOOL = \"USF\"\n",
    "data_path = f\"../bias_processing/data/1/{SCHOOL.lower()}_dataset.poli.csv\"\n",
    "output_path = f\"../bias_processing/data/3/{SCHOOL.lower()}_dataset_summarizer.poli.csv\"\n",
    "model = \"nltk_sia\""
   ]
  },
  {
   "cell_type": "code",
   "execution_count": null,
   "metadata": {},
   "outputs": [],
   "source": [
    "\"\"\"\n",
    "Load in a csv from Sentiment_Dataset_Maker and add 4x3x3 columns\n",
    "4 topics (\"Israel\", \"Palestine\", \"India\", \"China\")\n",
    "3 hypotheses for sentiment (Positive, Negative, Neutral)\n",
    "3 levels of granularity\n",
    "'sentence':Compute sentiment for entire article\n",
    "'paragraph':Summarizes each paragraph using an ML summarizing model, and join those summaries to one body of text. Compute sentiment for this new article version.\n",
    "'article':Summarize the entire article in one go using the same ML model. Compute sentiment for this new article version\n",
    "Save a new csv with these added columns\n",
    "\n",
    "\"\"\""
   ]
  },
  {
   "cell_type": "code",
   "execution_count": null,
   "metadata": {},
   "outputs": [],
   "source": [
    "%pip install transformers nltk"
   ]
  },
  {
   "cell_type": "code",
   "execution_count": null,
   "metadata": {},
   "outputs": [],
   "source": [
    "import nltk\n",
    "nltk.download('vader_lexicon')"
   ]
  },
  {
   "cell_type": "code",
   "execution_count": null,
   "metadata": {},
   "outputs": [],
   "source": [
    "import pandas as pd\n",
    "import csv\n",
    "import os\n",
    "from nltk.sentiment.vader import SentimentIntensityAnalyzer\n",
    "from statistics import mean\n",
    "from transformers import pipeline\n",
    "\n",
    "summarizer = pipeline('summarization', model='t5-base')\n",
    "\n",
    "# Summarize each paragraph, join summaries, and compute sentiment\n",
    "def summarize_paragraphs(text):\n",
    "    paragraphs = text.split('\\n')\n",
    "    summarized_text = '\\n'.join([summarizer(para, max_length=int(len(para.split())/2) - 1, min_length=15)[0]['summary_text']\n",
    "                                for para in paragraphs if para and len(para.split()) > 40])\n",
    "    return summarized_text\n",
    "\n",
    "# Full text summarization and sentiment calculation\n",
    "def summarize_full_text(text):\n",
    "    summarized_text = summarizer(text, max_length=512, min_length=50)[0]['summary_text']\n",
    "    return summarized_text\n",
    "\n",
    "# Function to return the sentiment of a text\n",
    "def get_sentiment(text, granularity, keyword, model=model, method='avg'):\n",
    "    if model == \"nltk_sia\":\n",
    "        # Instantiate the sentiment analyzer\n",
    "        sia = SentimentIntensityAnalyzer()\n",
    "        # Output is a dict containing {'neg','pos','neu','composition'}. First three are needed for all future functionality\n",
    "        def get_model_scores(text):\n",
    "            scores = sia.polarity_scores(text)\n",
    "            return scores\n",
    "        def get_keys(text):\n",
    "            return sia.polarity_scores(text).keys()\n",
    "\n",
    "    if granularity in ['paragraph','article']:\n",
    "        if granularity == 'paragraph':\n",
    "            # Calculate the polarity scores for each paragraph and store them in a list\n",
    "            # TODO: Revise and check paragraph splitting, may have issues with article splitting\n",
    "            text = summarize_paragraphs(text)\n",
    "        elif granularity == 'article':\n",
    "            text = summarize_full_text(text)\n",
    "\n",
    "    scores = get_model_scores(text)\n",
    "    return scores['neg'], scores['pos'], scores['neu']"
   ]
  },
  {
   "cell_type": "code",
   "execution_count": null,
   "metadata": {},
   "outputs": [],
   "source": [
    "from sentiment_calculater import build_csv\n",
    "\n",
    "build_csv(data_path, output_path, get_sentiment)"
   ]
  }
 ],
 "metadata": {
  "kernelspec": {
   "display_name": "Python 3",
   "language": "python",
   "name": "python3"
  },
  "language_info": {
   "codemirror_mode": {
    "name": "ipython",
    "version": 3
   },
   "file_extension": ".py",
   "mimetype": "text/x-python",
   "name": "python",
   "nbconvert_exporter": "python",
   "pygments_lexer": "ipython3",
   "version": "3.9.6"
  },
  "orig_nbformat": 4
 },
 "nbformat": 4,
 "nbformat_minor": 2
}
