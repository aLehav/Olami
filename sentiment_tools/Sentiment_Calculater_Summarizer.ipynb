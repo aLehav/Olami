{
 "cells": [
  {
   "cell_type": "code",
   "execution_count": 7,
   "metadata": {},
   "outputs": [],
   "source": [
    "SCHOOL = \"USC\"\n",
    "data_path = f\"../bias_processing/data/1/{SCHOOL.lower()}_dataset.csv\"\n",
    "output_path = f\"../bias_processing/data/3/{SCHOOL.lower()}_dataset_summarizer.csv\"\n",
    "model = \"nltk_sia\""
   ]
  },
  {
   "cell_type": "code",
   "execution_count": null,
   "metadata": {},
   "outputs": [],
   "source": [
    "\"\"\"\n",
    "Load in a csv from Sentiment_Dataset_Maker and add 4x3x3 columns\n",
    "4 topics (\"Israel\", \"Palestine\", \"India\", \"China\")\n",
    "3 hypotheses for sentiment (Positive, Negative, Neutral)\n",
    "3 levels of granularity\n",
    "'sentence':Compute sentiment for entire article\n",
    "'paragraph':Summarizes each paragraph using an ML summarizing model, and join those summaries to one body of text. Compute sentiment for this new article version.\n",
    "'article':Summarize the entire article in one go using the same ML model. Compute sentiment for this new article version\n",
    "Save a new csv with these added columns\n",
    "\n",
    "\"\"\""
   ]
  },
  {
   "cell_type": "code",
   "execution_count": null,
   "metadata": {},
   "outputs": [],
   "source": [
    "%pip install transformers nltk"
   ]
  },
  {
   "cell_type": "code",
   "execution_count": 5,
   "metadata": {},
   "outputs": [
    {
     "name": "stderr",
     "output_type": "stream",
     "text": [
      "[nltk_data] Downloading package vader_lexicon to\n",
      "[nltk_data]     C:\\Users\\adaml\\AppData\\Roaming\\nltk_data...\n",
      "[nltk_data]   Package vader_lexicon is already up-to-date!\n"
     ]
    },
    {
     "data": {
      "text/plain": [
       "True"
      ]
     },
     "execution_count": 5,
     "metadata": {},
     "output_type": "execute_result"
    }
   ],
   "source": [
    "import nltk\n",
    "nltk.download('vader_lexicon')"
   ]
  },
  {
   "cell_type": "code",
   "execution_count": 2,
   "metadata": {},
   "outputs": [
    {
     "name": "stderr",
     "output_type": "stream",
     "text": [
      "c:\\Users\\adaml\\AppData\\Local\\Programs\\Python\\Python39\\lib\\site-packages\\tqdm\\auto.py:21: TqdmWarning: IProgress not found. Please update jupyter and ipywidgets. See https://ipywidgets.readthedocs.io/en/stable/user_install.html\n",
      "  from .autonotebook import tqdm as notebook_tqdm\n",
      "c:\\Users\\adaml\\AppData\\Local\\Programs\\Python\\Python39\\lib\\site-packages\\transformers\\models\\t5\\tokenization_t5_fast.py:155: FutureWarning: This tokenizer was incorrectly instantiated with a model max length of 512 which will be corrected in Transformers v5.\n",
      "For now, this behavior is kept to avoid breaking backwards compatibility when padding/encoding with `truncation is True`.\n",
      "- Be aware that you SHOULD NOT rely on t5-base automatically truncating your input to 512 when padding/encoding.\n",
      "- If you want to encode/pad to sequences longer than 512 you can either instantiate this tokenizer with `model_max_length` or pass `max_length` when encoding/padding.\n",
      "- To avoid this warning, please instantiate this tokenizer with `model_max_length` set to your preferred value.\n",
      "  warnings.warn(\n"
     ]
    }
   ],
   "source": [
    "import pandas as pd\n",
    "import csv\n",
    "import os\n",
    "from nltk.sentiment.vader import SentimentIntensityAnalyzer\n",
    "from statistics import mean\n",
    "from transformers import pipeline\n",
    "\n",
    "summarizer = pipeline('summarization', model='t5-base')\n",
    "\n",
    "# Summarize each paragraph, join summaries, and compute sentiment\n",
    "def summarize_paragraphs(text):\n",
    "    paragraphs = text.split('\\n')\n",
    "    summarized_text = '\\n'.join([summarizer(para, max_length=int(len(para.split())/2) - 1, min_length=15)[0]['summary_text']\n",
    "                                for para in paragraphs if para and len(para.split()) > 40])\n",
    "    return summarized_text\n",
    "\n",
    "# Full text summarization and sentiment calculation\n",
    "def summarize_full_text(text):\n",
    "    summarized_text = summarizer(text, max_length=512, min_length=50)[0]['summary_text']\n",
    "    return summarized_text\n",
    "\n",
    "# Function to return the sentiment of a text\n",
    "def get_sentiment(text, granularity, keyword, model=model, method='avg'):\n",
    "    if model == \"nltk_sia\":\n",
    "        # Instantiate the sentiment analyzer\n",
    "        sia = SentimentIntensityAnalyzer()\n",
    "        # Output is a dict containing {'neg','pos','neu','composition'}. First three are needed for all future functionality\n",
    "        def get_model_scores(text):\n",
    "            scores = sia.polarity_scores(text)\n",
    "            return scores\n",
    "        def get_keys(text):\n",
    "            return sia.polarity_scores(text).keys()\n",
    "\n",
    "    if granularity in ['paragraph','article']:\n",
    "        if granularity == 'paragraph':\n",
    "            # Calculate the polarity scores for each paragraph and store them in a list\n",
    "            # TODO: Revise and check paragraph splitting, may have issues with article splitting\n",
    "            text = summarize_paragraphs(text)\n",
    "        elif granularity == 'article':\n",
    "            text = summarize_full_text(text)\n",
    "\n",
    "    scores = get_model_scores(text)\n",
    "    return scores['neg'], scores['pos'], scores['neu']"
   ]
  },
  {
   "cell_type": "code",
   "execution_count": null,
   "metadata": {},
   "outputs": [],
   "source": [
    "from sentiment_calculater import build_csv\n",
    "\n",
    "build_csv(data_path, output_path, get_sentiment)"
   ]
  }
 ],
 "metadata": {
  "kernelspec": {
   "display_name": "Python 3",
   "language": "python",
   "name": "python3"
  },
  "language_info": {
   "codemirror_mode": {
    "name": "ipython",
    "version": 3
   },
   "file_extension": ".py",
   "mimetype": "text/x-python",
   "name": "python",
   "nbconvert_exporter": "python",
   "pygments_lexer": "ipython3",
   "version": "3.9.6"
  },
  "orig_nbformat": 4
 },
 "nbformat": 4,
 "nbformat_minor": 2
}
