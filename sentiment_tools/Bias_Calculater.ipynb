{
 "cells": [
  {
   "cell_type": "code",
   "execution_count": 18,
   "metadata": {},
   "outputs": [],
   "source": [
    "method = \"diff_avg\"\n",
    "sentiment_type = \"summarizer\"\n",
    "sentiment_path_portion = \"3\" if sentiment_type == \"summarizer\" else \"2/nltk_sia\"\n",
    "output_path = f\"../bias_processing/data/4/bias_{method}.csv\""
   ]
  },
  {
   "cell_type": "code",
   "execution_count": 19,
   "metadata": {},
   "outputs": [],
   "source": [
    "from statistics import mean\n",
    "import numpy as np\n",
    "\n",
    "def score_computer_generator(method=method):\n",
    "    def score_computer(article_sentiment_scores, sentence_sentiment_scores):\n",
    "        if len(article_sentiment_scores) == 0:\n",
    "            return np.nan\n",
    "        if method == \"mean_avg\":\n",
    "            article_val = mean(article_sentiment_scores)\n",
    "            sentence_val = mean(sentence_sentiment_scores)\n",
    "            return (article_val + sentence_val) / 2\n",
    "        elif method == \"mean_diff\":\n",
    "            article_val = mean(article_sentiment_scores)\n",
    "            sentence_val = mean(sentence_sentiment_scores)\n",
    "            return article_val - sentence_val\n",
    "        elif method == \"diff_avg\":\n",
    "            differences = [a - b for a, b in zip(article_sentiment_scores, sentence_sentiment_scores)]\n",
    "            return mean(differences)\n",
    "        else:\n",
    "            raise(ValueError(\"Put in a valid method\"))\n",
    "    return score_computer\n",
    "scorer = score_computer_generator(method=method)"
   ]
  },
  {
   "cell_type": "code",
   "execution_count": 20,
   "metadata": {},
   "outputs": [
    {
     "data": {
      "text/plain": [
       "\"\\nGiven a csv from one of the Sentiment_Calculator notebooks, calculate bias by doing the following:\\nGroup by topic, and consider that 1 series\\nCompute variance between series of sentiment for entire article granularity and sentence-granularity for each of the labels (Positive, Negative, Neutral) leaving you with 3 values\\nAverage these values (add functionality to take max as well) and assume this to be 'bias'\\nStore the bias for a given school as a csv with the columns of School_Name, Israel_Bias, Palestine_Bias, India_Bias, China_Bias\\nSave a new csv with this entry, or load in a csv of past schools with these columns and add this row to the bottom\\n\""
      ]
     },
     "execution_count": 20,
     "metadata": {},
     "output_type": "execute_result"
    }
   ],
   "source": [
    "\"\"\"\n",
    "Given a csv from one of the Sentiment_Calculator notebooks, calculate bias by doing the following:\n",
    "Group by topic, and consider that 1 series\n",
    "Compute variance between series of sentiment for entire article granularity and sentence-granularity for each of the labels (Positive, Negative, Neutral) leaving you with 3 values\n",
    "Average these values (add functionality to take max as well) and assume this to be 'bias'\n",
    "Store the bias for a given school as a csv with the columns of School_Name, Israel_Bias, Palestine_Bias, India_Bias, China_Bias\n",
    "Save a new csv with this entry, or load in a csv of past schools with these columns and add this row to the bottom\n",
    "\"\"\""
   ]
  },
  {
   "cell_type": "code",
   "execution_count": 22,
   "metadata": {},
   "outputs": [],
   "source": [
    "\"\"\"\n",
    "In this version, the bias is calculated as the average of the variances of the sentiment scores \n",
    "within each granularity (article and sentence).\n",
    "\"\"\"\n",
    "import pandas as pd\n",
    "import os\n",
    "\n",
    "if os.path.exists(output_path):\n",
    "    os.remove(output_path)\n",
    "\n",
    "for SCHOOL in [\"LIU\",\"Georgetown\",\"CMU\",\"AU\",\"USC\",\"York\"]:\n",
    "\n",
    "    data_path = f\"../bias_processing/data/{sentiment_path_portion}/{SCHOOL.lower()}_dataset_{sentiment_type}.csv\"\n",
    "\n",
    "    # Read the data from the CSV file\n",
    "    df = pd.read_csv(data_path)\n",
    "\n",
    "    # Define the keywords and sentiments to be processed\n",
    "    keywords = ['Israel', 'Palestine', 'India', 'China']\n",
    "    sentiments = ['pos', 'neg', 'neu']\n",
    "\n",
    "    # Initialize a dictionary to store the bias for each keyword and sentiment\n",
    "    result_dict = {f'{keyword}_{sentiment}_Bias': [] for keyword in keywords for sentiment in sentiments}\n",
    "\n",
    "    # Loop over each keyword and sentiment\n",
    "    for keyword in keywords:\n",
    "        for sentiment in sentiments:\n",
    "            # Extract the sentiment scores for the keyword from the dataframe\n",
    "            article_sentiment_scores = df.loc[df['keyword'] == keyword, f'article_{sentiment}']\n",
    "            sentence_sentiment_scores = df.loc[df['keyword'] == keyword, f'sentence_{sentiment}']\n",
    "\n",
    "            result_dict[f'{keyword}_{sentiment}_Bias'] = scorer(article_sentiment_scores, sentence_sentiment_scores)\n",
    "\n",
    "    # Add the school name to the results dictionary\n",
    "    result_dict['School_Name'] = SCHOOL\n",
    "\n",
    "    # Convert the results dictionary to a DataFrame\n",
    "    result_df = pd.DataFrame(result_dict, index=[0])\n",
    "\n",
    "    # If the output file already exists, load the existing data and append the new data only if it's not duplicate\n",
    "    if os.path.exists(output_path):\n",
    "        existing_df = pd.read_csv(output_path)\n",
    "        if not existing_df.equals(result_df):\n",
    "            result_df.to_csv(output_path, mode='a', header=False, index=False)\n",
    "    # If it doesn't exist, create a new file\n",
    "    else:\n",
    "        result_df.to_csv(output_path, index=False)"
   ]
  },
  {
   "cell_type": "code",
   "execution_count": null,
   "metadata": {},
   "outputs": [],
   "source": []
  }
 ],
 "metadata": {
  "kernelspec": {
   "display_name": "Python 3",
   "language": "python",
   "name": "python3"
  },
  "language_info": {
   "codemirror_mode": {
    "name": "ipython",
    "version": 3
   },
   "file_extension": ".py",
   "mimetype": "text/x-python",
   "name": "python",
   "nbconvert_exporter": "python",
   "pygments_lexer": "ipython3",
   "version": "3.9.6"
  },
  "orig_nbformat": 4
 },
 "nbformat": 4,
 "nbformat_minor": 2
}
