{
  "nbformat": 4,
  "nbformat_minor": 0,
  "metadata": {
    "colab": {
      "provenance": [],
      "authorship_tag": "ABX9TyOxr0CYU6S+AgcqliguDLPY",
      "include_colab_link": true
    },
    "kernelspec": {
      "name": "python3",
      "display_name": "Python 3"
    },
    "language_info": {
      "name": "python"
    }
  },
  "cells": [
    {
      "cell_type": "markdown",
      "metadata": {
        "id": "view-in-github",
        "colab_type": "text"
      },
      "source": [
        "<a href=\"https://colab.research.google.com/github/aLehav/Olami/blob/main/AntisemitismSentiment.ipynb\" target=\"_parent\"><img src=\"https://colab.research.google.com/assets/colab-badge.svg\" alt=\"Open In Colab\"/></a>"
      ]
    },
    {
      "cell_type": "markdown",
      "source": [
        "# [Antisemitism Labeling Project](https://github.com/Nicolas-le/antisemitism-detector)\n",
        "# [DistilBERT](https://paperswithcode.com/method/distillbert#)\n",
        "# [PyTorch Sentiment Analysis](https://github.com/bentrevett/pytorch-sentiment-analysis)"
      ],
      "metadata": {
        "id": "HGNI6AyXa6rH"
      }
    }
  ]
}