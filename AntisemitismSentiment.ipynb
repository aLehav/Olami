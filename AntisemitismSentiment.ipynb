{
  "nbformat": 4,
  "nbformat_minor": 0,
  "metadata": {
    "colab": {
      "provenance": [],
      "authorship_tag": "ABX9TyN2PJZOpAukyGQ1AdOVB6kK",
      "include_colab_link": true
    },
    "kernelspec": {
      "name": "python3",
      "display_name": "Python 3"
    },
    "language_info": {
      "name": "python"
    }
  },
  "cells": [
    {
      "cell_type": "markdown",
      "metadata": {
        "id": "view-in-github",
        "colab_type": "text"
      },
      "source": [
        "<a href=\"https://colab.research.google.com/github/aLehav/Olami/blob/main/AntisemitismSentiment.ipynb\" target=\"_parent\"><img src=\"https://colab.research.google.com/assets/colab-badge.svg\" alt=\"Open In Colab\"/></a>"
      ]
    },
    {
      "cell_type": "markdown",
      "source": [
        "# [Antisemitism Labeling Project](https://github.com/Nicolas-le/antisemitism-detector)"
      ],
      "metadata": {
        "id": "HGNI6AyXa6rH"
      }
    },
    {
      "cell_type": "code",
      "source": [],
      "metadata": {
        "id": "tX0bc8X3XgXg"
      },
      "execution_count": null,
      "outputs": []
    }
  ]
}