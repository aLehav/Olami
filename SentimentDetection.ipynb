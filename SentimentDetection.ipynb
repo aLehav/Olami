{
 "cells": [
  {
   "attachments": {},
   "cell_type": "markdown",
   "metadata": {},
   "source": [
    "# Positive Count Grabber"
   ]
  },
  {
   "cell_type": "code",
   "execution_count": 32,
   "metadata": {},
   "outputs": [],
   "source": [
    "SCHOOL_NAME = \"UCF\"\n",
    "PIPELINE=[]\n",
    "STRING = \"China\"\n",
    "ARTICLE_JSON_PATH = 'ucf_article_pages.json'\n",
    "\n",
    "csv_path = 'grouped_data/csv/'\n",
    "csv_file = f'{csv_path}{SCHOOL_NAME}_{STRING}.csv'"
   ]
  },
  {
   "cell_type": "code",
   "execution_count": 25,
   "metadata": {},
   "outputs": [],
   "source": [
    "import re\n",
    "import json\n",
    "import json\n",
    "from helpers.queries import count_query\n",
    "from helpers.processors import csv_to_positive_articles, schools_pipeline_query_to_csv\n",
    "\n",
    "def generate_positive_csv():\n",
    "    print(\"Generating positive CSV.\")\n",
    "    schools_pipeline_query_to_csv(school_names=[SCHOOL_NAME], \n",
    "                                pipeline=PIPELINE, \n",
    "                                query=count_query(STRING), \n",
    "                                csv_file=csv_file)\n",
    "    df = csv_to_positive_articles(csv_file)\n",
    "    return df\n",
    "\n",
    "def make_links_field(df):\n",
    "    print(\"Making links field.\")\n",
    "    with open(ARTICLE_JSON_PATH, 'r') as f:\n",
    "        ucf_article_pages = json.load(f)\n",
    "\n",
    "    df['links'] = df.apply(lambda row: ucf_article_pages[row['date'].replace('-','_')], axis=1)\n",
    "\n",
    "def make_text_field(df):\n",
    "    print(\"Making text field.\")\n",
    "    def split_text(school_name):\n",
    "        if school_name == \"UCF\":\n",
    "            def split_text_ucf(row):\n",
    "                with open(row['txt_file'], 'r', encoding='utf-8') as f:\n",
    "                    text = f.read()\n",
    "                return re.split(r'\\n{3,}', text)[:-1]\n",
    "            return split_text_ucf\n",
    "        else:\n",
    "            raise ValueError(f\"School {school_name} not yet supported.\")\n",
    "\n",
    "    df['text'] = df.apply(split_text(school_name=SCHOOL_NAME), axis=1)\n",
    "\n",
    "def text_link_checker(df):\n",
    "    print(\"Checking for inconsistencies between df['text'] and df['links'].\")\n",
    "    for index, row in df.iterrows():\n",
    "        if len(row['text']) != len(row['links']):\n",
    "            print(f\"Row {index}: Length of 'text' does not match length of 'links'\")\n",
    "            print(row['text'], row['links'])\n",
    "\n",
    "def make_matching_text_field(df):\n",
    "    print(\"Making matching text field.\")\n",
    "    def matching_text(row):\n",
    "        indices = [count_query(STRING)(text) for text in row['text']]\n",
    "        new_text = [value for value, index in zip(row['text'], indices) if index != 0]\n",
    "        return new_text\n",
    "    df['matching_text'] = df.apply(matching_text, axis=1)\n",
    "\n",
    "def make_matching_links_field(df):\n",
    "    print(\"Making matching links field. May nisbehave if any incosistencies found prior.\")\n",
    "    def matching_links(row):\n",
    "        indices = [count_query(STRING)(text) for text in row['text']]\n",
    "        new_text = [value for value, index in zip(row['links'], indices) if index != 0]\n",
    "        return new_text\n",
    "    df['matching_links'] = df.apply(matching_links, axis=1)\n",
    "\n",
    "def save_df(df):\n",
    "    print(\"Saving df.\")\n",
    "    df.to_csv(f'{SCHOOL_NAME}_{STRING}.csv')"
   ]
  },
  {
   "cell_type": "code",
   "execution_count": 33,
   "metadata": {},
   "outputs": [
    {
     "name": "stdout",
     "output_type": "stream",
     "text": [
      "Generating positive CSV.\n",
      "grouped_data/csv/UCF_China.csv created.\n",
      "Making links field.\n",
      "Making text field.\n",
      "Checking for inconsistencies between df['text'] and df['links'].\n",
      "Row 665: Length of 'text' does not match length of 'links'\n",
      "['READ FULL STORY ON JOE HORNSTEIN. \\nWe obtained this information from the Associate Vice President of UCF.\\nJoe Hornstein has been released from his duties as the Associate Athletics Director for Public Relations and Communications. We thank Joe for his dedicated service and many contributions to our program and wish him well in all future endeavors.\\nUntil a replacement is hired and in place, Chad Binette (Associate Director, UCF News and Information) will serve as the Acting Athletics PR and Communications\\nDirector — effective immediately and until further notice.\\nChad has the university’s complete confidence in his new assignment.\\nCheck back as we gather more details on this breaking news.', 'The FSU SGA elections scandal is headed to the university’s Supreme Court tonight at 8:30 p.m. in the FSU College of Law New Advocacy Center Main Courtroom.\\n[ Copy this | Start New | Full Size ]\\nThe Progress Coalition has accused Ignite of failing to file proper campaign finance paperwork. Last week, the FSU Elections Commission agreed, finding Ignite in violation and disqualifying the ticket. Ignite is appealing that decision to the Supreme Court. \\nHowever, the more controversial allegation made against Ignite is that the party used state resources in an attempt to secure campaign material tax-free. The Elections Commission didn’t uphold that accusation, so Progress Coalition is appealing that to the Supreme Court, hoping to get a conviction there too. \\nKnightNews.com has reached out to the Ignite Party for comment over Facebook and email, but has not heard back. The FSU newspaper also had reported Ignite wasn’t available for comment in its coverage. An FSU alumnus did contact KnightNews.com, however, to defend Ignite. \\n“Please do remember, however, that FSU Senators are not paid (though the Supervisor of Elections and Student Body President are) and that these students with Ignite are mostly volunteering their time and want to simply serve and learn,” the FSU SGA alumnus said. “I’d bet none of them will forget to file a financial disclosure document again. It may be difficult to see sometimes, but not everyone has an ulterior motive. Sometimes people really do just accidentally mess up paperwork.” \\nThe Progress Coalition, however, says the behavior is nothing new and has been happening since last year. A party official gave KnightNews.com a copy of receipts showing $0.00 in taxes for what he says is Ignite campaign material in 2011 and 2012.', '“This is awful, and disgusts me as a student,” that official told KnightNews.com, regarding the evidence. \\nKnightNews.com will be monitoring the meeting tonight and will update you with the outcome. \\nOn the next page you can find the accusations being made by the Progress Coalition in its press release:\\n\\n“This is awful, and disgusts me as a student,” that official told KnightNews.com, regarding the evidence. \\nKnightNews.com will be monitoring the meeting tonight and will update you with the outcome. \\nOn the next page you can find the accusations being made by the Progress Coalition in its press release:', 'The University of Central Florida is looking into a new campus location in China, according to Central Florida News 13.\\nFaculty members from UCF, led by\\xa0Dr. Abe Pizam,\\xa0dean of UCF’s Rosen College of Hospitality Management, are meeting in China this week to discuss details about opening a new campus on Hainan Island, China’s southernmost territory and only tropical island.\\nThe campus would be set to host about 5,000 students with study topics focusing on the tourism industry and hospitality management.\\nThe group is scheduled to return from China March 1st. Check back for further details regarding this proposed\\xa0expansion!\\n\\xa0\\n\\xa0'] ['https://knightnews.com/2012/02/associate-athletics-director-joe-hornstein-has-been-released-from-his-duties/', 'https://knightnews.com/2012/02/fsu-supreme-court-to-decide-ignite-partys-fate-in-sga-elections-scandal/', 'https://knightnews.com/2012/02/ucf-campus-in-china/']\n",
      "Making matching links field. May nisbehave if any incosistencies found prior.\n",
      "Making matching text field.\n",
      "Saving df.\n"
     ]
    }
   ],
   "source": [
    "df = generate_positive_csv()\n",
    "make_links_field(df)\n",
    "make_text_field(df)\n",
    "text_link_checker(df)\n",
    "make_matching_links_field(df)\n",
    "make_matching_text_field(df)\n",
    "save_df(df)"
   ]
  },
  {
   "attachments": {},
   "cell_type": "markdown",
   "metadata": {},
   "source": [
    "Theoretical text processing, to be used in the case of pdf text."
   ]
  },
  {
   "cell_type": "code",
   "execution_count": 2,
   "metadata": {},
   "outputs": [
    {
     "name": "stderr",
     "output_type": "stream",
     "text": [
      "[nltk_data] Downloading package wordnet to\n",
      "[nltk_data]     C:\\Users\\adaml\\AppData\\Roaming\\nltk_data...\n",
      "[nltk_data]   Package wordnet is already up-to-date!\n"
     ]
    }
   ],
   "source": [
    "# # Load in the data\n",
    "# import nltk\n",
    "# from helpers.processors import positive_articles_to_sentences\n",
    "# from helpers.processors import preprocess_text\n",
    "# import pandas as pd\n",
    "# import numpy as np\n",
    "# nltk.download('wordnet')\n",
    "\n",
    "# txt_list = positive_articles_to_sentences(df=df, string=string)\n",
    "# proc_txt_list = [preprocess_text(txt) for txt in txt_list]\n",
    "# process_checker = pd.DataFrame([txt_list, proc_txt_list]).transpose()\n",
    "# process_checker.columns = [\"Raw\", \"Processed\"]\n",
    "# process_checker.to_csv(\"example_processed_text.csv\", index=False)"
   ]
  },
  {
   "attachments": {},
   "cell_type": "markdown",
   "metadata": {},
   "source": [
    "Fetching all associated text:"
   ]
  }
 ],
 "metadata": {
  "kernelspec": {
   "display_name": "Python 3",
   "language": "python",
   "name": "python3"
  },
  "language_info": {
   "codemirror_mode": {
    "name": "ipython",
    "version": 3
   },
   "file_extension": ".py",
   "mimetype": "text/x-python",
   "name": "python",
   "nbconvert_exporter": "python",
   "pygments_lexer": "ipython3",
   "version": "3.10.9"
  },
  "orig_nbformat": 4
 },
 "nbformat": 4,
 "nbformat_minor": 2
}
