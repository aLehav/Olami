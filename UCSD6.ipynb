{
 "cells": [
  {
   "cell_type": "code",
   "execution_count": 17,
   "metadata": {},
   "outputs": [
    {
     "name": "stderr",
     "output_type": "stream",
     "text": [
      "C:\\Users\\stacy\\AppData\\Local\\Temp\\ipykernel_34336\\3112146848.py:40: DeprecationWarning: The 'text' argument to find()-type methods is deprecated. Use 'string' instead.\n",
      "  date = date_soup.find('span', class_='dams-metadata-value', text='Date:').next_sibling.strip()\n"
     ]
    },
    {
     "name": "stdout",
     "output_type": "stream",
     "text": [
      "No PDF links found.\n"
     ]
    }
   ],
   "source": [
    "import requests\n",
    "from bs4 import BeautifulSoup\n",
    "import json\n",
    "from datetime import datetime\n",
    "\n",
    "# Base URL for the UCSD newspaper archives\n",
    "base_url = \"https://library.ucsd.edu/dc/\"\n",
    "\n",
    "# Load the subpage links from the subpage_links.json file\n",
    "with open(\"subpage_links.json\", \"r\") as f:\n",
    "    subpage_links = json.load(f)\n",
    "\n",
    "# List to store all the PDF links\n",
    "pdf_links = []\n",
    "\n",
    "# Loop through all the subpages and scrape the PDF links\n",
    "for subpage_link in subpage_links:\n",
    "    # Make a GET request to the subpage URL\n",
    "    response = requests.get(subpage_link)\n",
    "\n",
    "    # Create a BeautifulSoup object from the response HTML\n",
    "    soup = BeautifulSoup(response.content, 'html.parser')\n",
    "\n",
    "    # Find all the PDF links on the page\n",
    "    pdf_links_on_page = soup.find_all('a', class_='dams-search-thumbnail-link')\n",
    "\n",
    "    # Loop through all the PDF links and extract the PDF URL\n",
    "    for pdf_link_on_page in pdf_links_on_page:\n",
    "        try:\n",
    "            # Extract the relative URL for the PDF\n",
    "            pdf_url = pdf_link_on_page['href']\n",
    "\n",
    "            pdf_url = pdf_url.replace(\"/dc/\", \"\")\n",
    "\n",
    "            # Construct the absolute URL for the PDF file and add the \"_1.pdf\" suffix\n",
    "            pdf_full_url = f\"{base_url}{pdf_url.split('?')[0]}/_1.pdf\"\n",
    "            date_url = f\"{base_url}{pdf_url.split('?')[0]}\"\n",
    "            date_response = requests.get(date_url)\n",
    "            date_soup = BeautifulSoup(date_response.content, 'html.parser')\n",
    "            date = date_soup.find('span', class_='dams-metadata-value', text='Date:').next_sibling.strip()\n",
    "\n",
    "            # Create a dictionary with the PDF URL and date\n",
    "            pdf_info = {\n",
    "                'pdf_url': pdf_full_url,\n",
    "                'date': datetime.strptime(date, '%Y-%m-%d').strftime('%Y_%m_%d')\n",
    "            }\n",
    "\n",
    "\n",
    "            # Append the dictionary to the list of PDF links\n",
    "            pdf_links.append(pdf_info)\n",
    "            print(f\"PDF link found: {pdf_full_url}\")\n",
    "        except (TypeError, AttributeError):\n",
    "            # Skip links that do not have a href attribute or have invalid HTML\n",
    "            continue\n",
    "\n",
    "# Write the PDF links to a JSON file\n",
    "if len(pdf_links) > 0:\n",
    "    with open('ucsd_pdf_links.json', 'w') as f:\n",
    "        json.dump(pdf_links, f, indent=4)\n",
    "else:\n",
    "    print(\"No PDF links found.\")\n"
   ]
  }
 ],
 "metadata": {
  "kernelspec": {
   "display_name": "Python 3",
   "language": "python",
   "name": "python3"
  },
  "language_info": {
   "codemirror_mode": {
    "name": "ipython",
    "version": 3
   },
   "file_extension": ".py",
   "mimetype": "text/x-python",
   "name": "python",
   "nbconvert_exporter": "python",
   "pygments_lexer": "ipython3",
   "version": "3.10.11"
  },
  "orig_nbformat": 4
 },
 "nbformat": 4,
 "nbformat_minor": 2
}
