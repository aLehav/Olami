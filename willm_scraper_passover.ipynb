{
 "cells": [
  {
   "cell_type": "code",
   "execution_count": 5,
   "metadata": {},
   "outputs": [],
   "source": [
    "import requests # to make a request to a website\n",
    "from bs4 import BeautifulSoup # to parse the html content\n",
    "import pandas as pd # to import structures that store and can manipulate data\n",
    "\n",
    "# Define the website URL\n",
    "url = \"https://www.history.com/topics/holidays/passover\"\n",
    "\n",
    "# Make a request to the website\n",
    "response = requests.get(url)\n",
    "html_content = response.content\n",
    "\n",
    "# Parse the HTML content using BeautifulSoup\n",
    "soup = BeautifulSoup(html_content, \"html.parser\")\n",
    "\n",
    "# Find all <p> tags on the website\n",
    "p_tags = soup.find_all(\"p\")\n",
    "\n",
    "# Extract the text from the <p> tags and store them in a list\n",
    "p_texts = [p.text.strip() for p in p_tags]\n",
    "\n",
    "# Create a dataframe from the list of <p> tag texts\n",
    "df = pd.DataFrame(p_texts, columns=[\"Passover Text\"])\n",
    "\n",
    "# Save the dataframe as a CSV file\n",
    "df.to_csv(\"passover_text.csv\", index=False)\n"
   ]
  }
 ],
 "metadata": {
  "kernelspec": {
   "display_name": "Python 3",
   "language": "python",
   "name": "python3"
  },
  "language_info": {
   "codemirror_mode": {
    "name": "ipython",
    "version": 3
   },
   "file_extension": ".py",
   "mimetype": "text/x-python",
   "name": "python",
   "nbconvert_exporter": "python",
   "pygments_lexer": "ipython3",
   "version": "3.10.10"
  },
  "orig_nbformat": 4
 },
 "nbformat": 4,
 "nbformat_minor": 2
}
