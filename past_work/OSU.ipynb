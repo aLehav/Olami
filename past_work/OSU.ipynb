{
 "cells": [
  {
   "cell_type": "code",
   "execution_count": null,
   "metadata": {},
   "outputs": [],
   "source": [
    "import requests\n",
    "import json\n",
    "from bs4 import BeautifulSoup\n",
    "import re\n",
    "from datetime import datetime\n",
    "\n",
    "def get_subpages(url):\n",
    "    def get_subpages(url, output_file):\n",
    "    response = requests.get(url)\n",
    "    html_content = response.content\n",
    "    soup = BeautifulSoup(html_content, \"html.parser\")\n",
    "\n",
    "    li_tag = soup.find('li', class_='site-map-directory')\n",
    "    if not li_tag:\n",
    "        return [url]\n",
    "    \n",
    "def get_article_links_and_dates:\n",
    "    response = requests.get(subpage_url)\n",
    "    for subpage in subpage_links:\n",
    "        datetime.strfttime[-1, 2, 3]\n",
    "        if subpage:\n",
    "            subpage_links.append(subpage}\n",
    "    \n",
    "return subpage_links\n",
    "\n",
    "\n"
   ]
  },
  {
   "cell_type": "code",
   "execution_count": null,
   "metadata": {},
   "outputs": [],
   "source": [
    "get_subpages(https://osu.thedailyosu.com/archives)\n",
    "get_article_links_and_dates()"
   ]
  }
 ],
 "metadata": {
  "language_info": {
   "name": "python"
  },
  "orig_nbformat": 4
 },
 "nbformat": 4,
 "nbformat_minor": 2
}
