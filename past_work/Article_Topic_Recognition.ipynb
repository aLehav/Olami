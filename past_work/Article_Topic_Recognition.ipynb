{
 "cells": [
  {
   "cell_type": "code",
   "execution_count": 2,
   "metadata": {},
   "outputs": [
    {
     "name": "stdout",
     "output_type": "stream",
     "text": [
      "Requirement already satisfied: gensim in c:\\users\\adaml\\anaconda3\\lib\\site-packages (4.3.0)\n",
      "Requirement already satisfied: numpy>=1.18.5 in c:\\users\\adaml\\anaconda3\\lib\\site-packages (from gensim) (1.23.5)\n",
      "Requirement already satisfied: smart-open>=1.8.1 in c:\\users\\adaml\\anaconda3\\lib\\site-packages (from gensim) (6.3.0)\n",
      "Requirement already satisfied: scipy>=1.7.0 in c:\\users\\adaml\\anaconda3\\lib\\site-packages (from gensim) (1.10.0)\n",
      "Collecting FuzzyTM>=0.4.0\n",
      "  Downloading FuzzyTM-2.0.5-py3-none-any.whl (29 kB)\n",
      "Requirement already satisfied: pandas in c:\\users\\adaml\\anaconda3\\lib\\site-packages (from FuzzyTM>=0.4.0->gensim) (1.5.3)\n",
      "Collecting pyfume\n",
      "  Downloading pyFUME-0.2.25-py3-none-any.whl (67 kB)\n",
      "     ---------------------------------------- 67.1/67.1 kB 3.6 MB/s eta 0:00:00\n",
      "Requirement already satisfied: pytz>=2020.1 in c:\\users\\adaml\\anaconda3\\lib\\site-packages (from pandas->FuzzyTM>=0.4.0->gensim) (2022.7.1)\n",
      "Requirement already satisfied: python-dateutil>=2.8.1 in c:\\users\\adaml\\anaconda3\\lib\\site-packages (from pandas->FuzzyTM>=0.4.0->gensim) (2.8.1)\n",
      "Collecting fst-pso\n",
      "  Downloading fst-pso-1.8.1.tar.gz (18 kB)\n",
      "  Preparing metadata (setup.py): started\n",
      "  Preparing metadata (setup.py): finished with status 'done'\n",
      "Collecting simpful\n",
      "  Downloading simpful-2.10.0-py3-none-any.whl (31 kB)\n",
      "Requirement already satisfied: six>=1.5 in c:\\users\\adaml\\anaconda3\\lib\\site-packages (from python-dateutil>=2.8.1->pandas->FuzzyTM>=0.4.0->gensim) (1.16.0)\n",
      "Collecting miniful\n",
      "  Downloading miniful-0.0.6.tar.gz (2.8 kB)\n",
      "  Preparing metadata (setup.py): started\n",
      "  Preparing metadata (setup.py): finished with status 'done'\n",
      "Requirement already satisfied: requests in c:\\users\\adaml\\anaconda3\\lib\\site-packages (from simpful->pyfume->FuzzyTM>=0.4.0->gensim) (2.27.1)\n",
      "Requirement already satisfied: urllib3<1.27,>=1.21.1 in c:\\users\\adaml\\anaconda3\\lib\\site-packages (from requests->simpful->pyfume->FuzzyTM>=0.4.0->gensim) (1.26.15)\n",
      "Requirement already satisfied: charset-normalizer~=2.0.0 in c:\\users\\adaml\\anaconda3\\lib\\site-packages (from requests->simpful->pyfume->FuzzyTM>=0.4.0->gensim) (2.0.4)\n",
      "Requirement already satisfied: idna<4,>=2.5 in c:\\users\\adaml\\anaconda3\\lib\\site-packages (from requests->simpful->pyfume->FuzzyTM>=0.4.0->gensim) (3.4)\n",
      "Requirement already satisfied: certifi>=2017.4.17 in c:\\users\\adaml\\anaconda3\\lib\\site-packages (from requests->simpful->pyfume->FuzzyTM>=0.4.0->gensim) (2022.12.7)\n",
      "Building wheels for collected packages: fst-pso, miniful\n",
      "  Building wheel for fst-pso (setup.py): started\n",
      "  Building wheel for fst-pso (setup.py): finished with status 'done'\n",
      "  Created wheel for fst-pso: filename=fst_pso-1.8.1-py3-none-any.whl size=20450 sha256=3de1a7acaab378e5786285ea84ba8b64266c56a5e1c28397a8861c43065a6125\n",
      "  Stored in directory: c:\\users\\adaml\\appdata\\local\\pip\\cache\\wheels\\d7\\1e\\9c\\3c352867b1bb1ddba0e51149a0d06c1e50c1c9b1c5ebcac787\n",
      "  Building wheel for miniful (setup.py): started\n",
      "  Building wheel for miniful (setup.py): finished with status 'done'\n",
      "  Created wheel for miniful: filename=miniful-0.0.6-py3-none-any.whl size=3523 sha256=0aecb5cfd40652c80a907f501cc34f1b2868d46055eabf2f164a206cd9a1711b\n",
      "  Stored in directory: c:\\users\\adaml\\appdata\\local\\pip\\cache\\wheels\\37\\45\\a2\\db878712db97aaab6f574d750789bc6c99e3b706af8af6b936\n",
      "Successfully built fst-pso miniful\n",
      "Installing collected packages: simpful, miniful, fst-pso, pyfume, FuzzyTM\n",
      "Successfully installed FuzzyTM-2.0.5 fst-pso-1.8.1 miniful-0.0.6 pyfume-0.2.25 simpful-2.10.0\n",
      "Requirement already satisfied: gensim in c:\\users\\adaml\\anaconda3\\lib\\site-packages (4.3.0)\n",
      "Requirement already satisfied: scipy>=1.7.0 in c:\\users\\adaml\\anaconda3\\lib\\site-packages (from gensim) (1.10.0)\n",
      "Collecting FuzzyTM>=0.4.0\n",
      "  Using cached FuzzyTM-2.0.5-py3-none-any.whl (29 kB)\n",
      "Requirement already satisfied: numpy>=1.18.5 in c:\\users\\adaml\\anaconda3\\lib\\site-packages (from gensim) (1.23.5)\n",
      "Requirement already satisfied: smart-open>=1.8.1 in c:\\users\\adaml\\anaconda3\\lib\\site-packages (from gensim) (6.3.0)\n",
      "Collecting pyfume\n",
      "  Using cached pyFUME-0.2.25-py3-none-any.whl (67 kB)\n",
      "Requirement already satisfied: pandas in c:\\users\\adaml\\anaconda3\\lib\\site-packages (from FuzzyTM>=0.4.0->gensim) (1.5.3)\n",
      "Requirement already satisfied: python-dateutil>=2.8.1 in c:\\users\\adaml\\anaconda3\\lib\\site-packages (from pandas->FuzzyTM>=0.4.0->gensim) (2.8.1)\n",
      "Requirement already satisfied: pytz>=2020.1 in c:\\users\\adaml\\anaconda3\\lib\\site-packages (from pandas->FuzzyTM>=0.4.0->gensim) (2022.7.1)\n",
      "Collecting fst-pso\n",
      "  Using cached fst_pso-1.8.1-py3-none-any.whl\n",
      "Collecting simpful\n",
      "  Using cached simpful-2.10.0-py3-none-any.whl (31 kB)\n",
      "Requirement already satisfied: six>=1.5 in c:\\users\\adaml\\anaconda3\\lib\\site-packages (from python-dateutil>=2.8.1->pandas->FuzzyTM>=0.4.0->gensim) (1.16.0)\n",
      "Collecting miniful\n",
      "  Using cached miniful-0.0.6-py3-none-any.whl\n",
      "Requirement already satisfied: requests in c:\\users\\adaml\\anaconda3\\lib\\site-packages (from simpful->pyfume->FuzzyTM>=0.4.0->gensim) (2.27.1)\n",
      "Requirement already satisfied: certifi>=2017.4.17 in c:\\users\\adaml\\anaconda3\\lib\\site-packages (from requests->simpful->pyfume->FuzzyTM>=0.4.0->gensim) (2022.12.7)\n",
      "Requirement already satisfied: urllib3<1.27,>=1.21.1 in c:\\users\\adaml\\anaconda3\\lib\\site-packages (from requests->simpful->pyfume->FuzzyTM>=0.4.0->gensim) (1.26.15)\n",
      "Requirement already satisfied: idna<4,>=2.5 in c:\\users\\adaml\\anaconda3\\lib\\site-packages (from requests->simpful->pyfume->FuzzyTM>=0.4.0->gensim) (3.4)\n",
      "Requirement already satisfied: charset-normalizer~=2.0.0 in c:\\users\\adaml\\anaconda3\\lib\\site-packages (from requests->simpful->pyfume->FuzzyTM>=0.4.0->gensim) (2.0.4)\n",
      "Installing collected packages: simpful, miniful, fst-pso, pyfume, FuzzyTM\n",
      "Successfully installed FuzzyTM-2.0.5 fst-pso-1.8.1 miniful-0.0.6 pyfume-0.2.25 simpful-2.10.0\n",
      "Note: you may need to restart the kernel to use updated packages.\n"
     ]
    }
   ],
   "source": [
    "%pip install gensim"
   ]
  },
  {
   "cell_type": "code",
   "execution_count": null,
   "metadata": {},
   "outputs": [],
   "source": [
    "from gensim.utils import simple_preprocess\n",
    "import os\n",
    "\n",
    "# Set up a list to hold the preprocessed documents\n",
    "documents = []\n",
    "\n",
    "# Define a function to preprocess each document\n",
    "def preprocess_text(text):\n",
    "    return simple_preprocess(text)\n",
    "\n",
    "# Loop over each text file in your directory and preprocess the text\n",
    "directory = \"/path/to/text/files\"\n",
    "for filename in os.listdir(directory):\n",
    "    if filename.endswith(\".txt\"):\n",
    "        with open(os.path.join(directory, filename), \"r\") as f:\n",
    "            text = f.read()\n",
    "            preprocessed_text = preprocess_text(text)\n",
    "            documents.append(preprocessed_text)\n"
   ]
  }
 ],
 "metadata": {
  "kernelspec": {
   "display_name": "base",
   "language": "python",
   "name": "python3"
  },
  "language_info": {
   "codemirror_mode": {
    "name": "ipython",
    "version": 3
   },
   "file_extension": ".py",
   "mimetype": "text/x-python",
   "name": "python",
   "nbconvert_exporter": "python",
   "pygments_lexer": "ipython3",
   "version": "3.9.16"
  },
  "orig_nbformat": 4
 },
 "nbformat": 4,
 "nbformat_minor": 2
}
