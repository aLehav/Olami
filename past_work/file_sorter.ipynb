{
 "cells": [
  {
   "cell_type": "code",
   "execution_count": 1,
   "metadata": {},
   "outputs": [
    {
     "name": "stdout",
     "output_type": "stream",
     "text": [
      "TXT/XML Links:\n",
      "[]\n",
      "\n",
      "PDF Links:\n",
      "[]\n",
      "\n",
      "Other Links:\n",
      "['https://dailytrojan.com/2009/06/24/gauntlet-ups-ante-on-rivalry/', 'https://dailytrojan.com/2009/06/24/mayor-to-stay-in-la-won%e2%80%99t-run-in-2010/', 'https://dailytrojan.com/2009/06/24/summer-film-fails-to-remain-through-the-season/', 'https://dailytrojan.com/2009/06/24/reality-tv-less-substance-more-spectacle/', 'https://dailytrojan.com/2009/06/24/derozan-expected-to-be-selected-in-the-top-10-of-the-nba-draft/', 'https://dailytrojan.com/2009/06/24/twitter-no-longer-just-for-the-twits-of-america/', 'https://dailytrojan.com/2009/06/page/3/', 'https://dailytrojan.com/2009/06/page/4/', 'https://dailytrojan.com/2009/06/page/5/', 'https://dailytrojan.com/2009/06/24/mr-o%e2%80%99neill-%e2%80%98the-floor-is-yours%e2%80%99/', 'https://dailytrojan.com/2009/06/24/maverick-director-creates-a-harrowing-war-worth-entering/', 'https://dailytrojan.com/2009/06/page/2/', 'https://dailytrojan.com/2009/06/24/updated-musical-intoxicates-audience-literally/', 'https://dailytrojan.com/2009/06/24/veteran-education-benefits-up-in-the-air-with-new-bill/']\n"
     ]
    }
   ],
   "source": [
    "import os\n",
    "\n",
    "link_list = [\n",
    "    \"https://dailytrojan.com/2009/06/24/gauntlet-ups-ante-on-rivalry/\",\n",
    "    \"https://dailytrojan.com/2009/06/24/mayor-to-stay-in-la-won%e2%80%99t-run-in-2010/\",\n",
    "    \"https://dailytrojan.com/2009/06/24/summer-film-fails-to-remain-through-the-season/\",\n",
    "    \"https://dailytrojan.com/2009/06/24/reality-tv-less-substance-more-spectacle/\",\n",
    "    \"https://dailytrojan.com/2009/06/24/derozan-expected-to-be-selected-in-the-top-10-of-the-nba-draft/\",\n",
    "    \"https://dailytrojan.com/2009/06/24/twitter-no-longer-just-for-the-twits-of-america/\",\n",
    "    \"https://dailytrojan.com/2009/06/page/3/\",\n",
    "    \"https://dailytrojan.com/2009/06/page/4/\",\n",
    "    \"https://dailytrojan.com/2009/06/page/5/\",\n",
    "    \"https://dailytrojan.com/2009/06/24/mr-o%e2%80%99neill-%e2%80%98the-floor-is-yours%e2%80%99/\",\n",
    "    \"https://dailytrojan.com/2009/06/24/maverick-director-creates-a-harrowing-war-worth-entering/\",\n",
    "    \"https://dailytrojan.com/2009/06/page/2/\",\n",
    "    \"https://dailytrojan.com/2009/06/24/updated-musical-intoxicates-audience-literally/\",\n",
    "    \"https://dailytrojan.com/2009/06/24/veteran-education-benefits-up-in-the-air-with-new-bill/\"\n",
    "]\n",
    "\n",
    "txt_xml_links = []\n",
    "pdf_links = []\n",
    "other_links = []\n",
    "\n",
    "for link in link_list:\n",
    "    file_extension = os.path.splitext(link)[1].lower()\n",
    "    if file_extension in [\".txt\", \".xml\"]:\n",
    "        txt_xml_links.append(link)\n",
    "    elif file_extension == \".pdf\":\n",
    "        pdf_links.append(link)\n",
    "    else:\n",
    "        other_links.append(link)\n",
    "\n",
    "print(\"TXT/XML Links:\")\n",
    "print(txt_xml_links)\n",
    "print(\"\\nPDF Links:\")\n",
    "print(pdf_links)\n",
    "print(\"\\nOther Links:\")\n",
    "print(other_links)\n"
   ]
  }
 ],
 "metadata": {
  "kernelspec": {
   "display_name": "Python 3",
   "language": "python",
   "name": "python3"
  },
  "language_info": {
   "codemirror_mode": {
    "name": "ipython",
    "version": 3
   },
   "file_extension": ".py",
   "mimetype": "text/x-python",
   "name": "python",
   "nbconvert_exporter": "python",
   "pygments_lexer": "ipython3",
   "version": "3.9.6"
  },
  "orig_nbformat": 4
 },
 "nbformat": 4,
 "nbformat_minor": 2
}
