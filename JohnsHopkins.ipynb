{
 "cells": [
  {
   "cell_type": "code",
   "execution_count": 19,
   "metadata": {},
   "outputs": [
    {
     "name": "stdout",
     "output_type": "stream",
     "text": [
      "https://www.jhunewsletter.com/search?a=1&o=date&ts_month=01&ts_day=1&ts_year=2009&te_month=01&te_day=1&te_year=2010\n",
      "https://www.jhunewsletter.com/search?a=1&o=date&ts_month=01&ts_day=1&ts_year=2009&te_month=01&te_day=1&te_year=2010&p=2\n",
      "https://www.jhunewsletter.com/search?a=1&o=date&ts_month=01&ts_day=1&ts_year=2009&te_month=01&te_day=1&te_year=2010&p=3\n",
      "https://www.jhunewsletter.com/search?a=1&o=date&ts_month=01&ts_day=1&ts_year=2009&te_month=01&te_day=1&te_year=2010&p=4\n",
      "https://www.jhunewsletter.com/search?a=1&o=date&ts_month=01&ts_day=1&ts_year=2009&te_month=01&te_day=1&te_year=2010&p=5\n",
      "https://www.jhunewsletter.com/search?a=1&o=date&ts_month=01&ts_day=1&ts_year=2009&te_month=01&te_day=1&te_year=2010&p=6\n",
      "https://www.jhunewsletter.com/search?a=1&o=date&ts_month=01&ts_day=1&ts_year=2009&te_month=01&te_day=1&te_year=2010&p=7\n",
      "https://www.jhunewsletter.com/search?a=1&o=date&ts_month=01&ts_day=1&ts_year=2009&te_month=01&te_day=1&te_year=2010&p=8\n",
      "https://www.jhunewsletter.com/search?a=1&o=date&ts_month=01&ts_day=1&ts_year=2010&te_month=01&te_day=1&te_year=2011\n",
      "https://www.jhunewsletter.com/search?a=1&o=date&ts_month=01&ts_day=1&ts_year=2010&te_month=01&te_day=1&te_year=2011&p=2\n",
      "https://www.jhunewsletter.com/search?a=1&o=date&ts_month=01&ts_day=1&ts_year=2010&te_month=01&te_day=1&te_year=2011&p=3\n",
      "https://www.jhunewsletter.com/search?a=1&o=date&ts_month=01&ts_day=1&ts_year=2010&te_month=01&te_day=1&te_year=2011&p=4\n",
      "https://www.jhunewsletter.com/search?a=1&o=date&ts_month=01&ts_day=1&ts_year=2010&te_month=01&te_day=1&te_year=2011&p=5\n",
      "https://www.jhunewsletter.com/search?a=1&o=date&ts_month=01&ts_day=1&ts_year=2010&te_month=01&te_day=1&te_year=2011&p=6\n",
      "https://www.jhunewsletter.com/search?a=1&o=date&ts_month=01&ts_day=1&ts_year=2010&te_month=01&te_day=1&te_year=2011&p=7\n",
      "https://www.jhunewsletter.com/search?a=1&o=date&ts_month=01&ts_day=1&ts_year=2010&te_month=01&te_day=1&te_year=2011&p=8\n",
      "https://www.jhunewsletter.com/search?a=1&o=date&ts_month=01&ts_day=1&ts_year=2011&te_month=01&te_day=1&te_year=2012\n",
      "https://www.jhunewsletter.com/search?a=1&o=date&ts_month=01&ts_day=1&ts_year=2011&te_month=01&te_day=1&te_year=2012&p=2\n",
      "https://www.jhunewsletter.com/search?a=1&o=date&ts_month=01&ts_day=1&ts_year=2011&te_month=01&te_day=1&te_year=2012&p=3\n",
      "https://www.jhunewsletter.com/search?a=1&o=date&ts_month=01&ts_day=1&ts_year=2011&te_month=01&te_day=1&te_year=2012&p=4\n",
      "https://www.jhunewsletter.com/search?a=1&o=date&ts_month=01&ts_day=1&ts_year=2011&te_month=01&te_day=1&te_year=2012&p=5\n",
      "https://www.jhunewsletter.com/search?a=1&o=date&ts_month=01&ts_day=1&ts_year=2011&te_month=01&te_day=1&te_year=2012&p=6\n",
      "https://www.jhunewsletter.com/search?a=1&o=date&ts_month=01&ts_day=1&ts_year=2011&te_month=01&te_day=1&te_year=2012&p=7\n",
      "https://www.jhunewsletter.com/search?a=1&o=date&ts_month=01&ts_day=1&ts_year=2011&te_month=01&te_day=1&te_year=2012&p=8\n",
      "https://www.jhunewsletter.com/search?a=1&o=date&ts_month=01&ts_day=1&ts_year=2012&te_month=01&te_day=1&te_year=2013\n",
      "https://www.jhunewsletter.com/search?a=1&o=date&ts_month=01&ts_day=1&ts_year=2012&te_month=01&te_day=1&te_year=2013&p=2\n",
      "https://www.jhunewsletter.com/search?a=1&o=date&ts_month=01&ts_day=1&ts_year=2012&te_month=01&te_day=1&te_year=2013&p=3\n",
      "https://www.jhunewsletter.com/search?a=1&o=date&ts_month=01&ts_day=1&ts_year=2012&te_month=01&te_day=1&te_year=2013&p=4\n",
      "https://www.jhunewsletter.com/search?a=1&o=date&ts_month=01&ts_day=1&ts_year=2012&te_month=01&te_day=1&te_year=2013&p=5\n",
      "https://www.jhunewsletter.com/search?a=1&o=date&ts_month=01&ts_day=1&ts_year=2012&te_month=01&te_day=1&te_year=2013&p=6\n",
      "https://www.jhunewsletter.com/search?a=1&o=date&ts_month=01&ts_day=1&ts_year=2012&te_month=01&te_day=1&te_year=2013&p=7\n",
      "https://www.jhunewsletter.com/search?a=1&o=date&ts_month=01&ts_day=1&ts_year=2012&te_month=01&te_day=1&te_year=2013&p=8\n",
      "https://www.jhunewsletter.com/search?a=1&o=date&ts_month=01&ts_day=1&ts_year=2013&te_month=01&te_day=1&te_year=2014\n",
      "https://www.jhunewsletter.com/search?a=1&o=date&ts_month=01&ts_day=1&ts_year=2013&te_month=01&te_day=1&te_year=2014&p=2\n",
      "https://www.jhunewsletter.com/search?a=1&o=date&ts_month=01&ts_day=1&ts_year=2013&te_month=01&te_day=1&te_year=2014&p=3\n",
      "https://www.jhunewsletter.com/search?a=1&o=date&ts_month=01&ts_day=1&ts_year=2013&te_month=01&te_day=1&te_year=2014&p=4\n",
      "https://www.jhunewsletter.com/search?a=1&o=date&ts_month=01&ts_day=1&ts_year=2013&te_month=01&te_day=1&te_year=2014&p=5\n",
      "https://www.jhunewsletter.com/search?a=1&o=date&ts_month=01&ts_day=1&ts_year=2013&te_month=01&te_day=1&te_year=2014&p=6\n",
      "https://www.jhunewsletter.com/search?a=1&o=date&ts_month=01&ts_day=1&ts_year=2013&te_month=01&te_day=1&te_year=2014&p=7\n",
      "https://www.jhunewsletter.com/search?a=1&o=date&ts_month=01&ts_day=1&ts_year=2013&te_month=01&te_day=1&te_year=2014&p=8\n",
      "https://www.jhunewsletter.com/search?a=1&o=date&ts_month=01&ts_day=1&ts_year=2014&te_month=01&te_day=1&te_year=2015\n",
      "https://www.jhunewsletter.com/search?a=1&o=date&ts_month=01&ts_day=1&ts_year=2014&te_month=01&te_day=1&te_year=2015&p=2\n",
      "https://www.jhunewsletter.com/search?a=1&o=date&ts_month=01&ts_day=1&ts_year=2014&te_month=01&te_day=1&te_year=2015&p=3\n",
      "https://www.jhunewsletter.com/search?a=1&o=date&ts_month=01&ts_day=1&ts_year=2014&te_month=01&te_day=1&te_year=2015&p=4\n",
      "https://www.jhunewsletter.com/search?a=1&o=date&ts_month=01&ts_day=1&ts_year=2014&te_month=01&te_day=1&te_year=2015&p=5\n",
      "https://www.jhunewsletter.com/search?a=1&o=date&ts_month=01&ts_day=1&ts_year=2014&te_month=01&te_day=1&te_year=2015&p=6\n",
      "https://www.jhunewsletter.com/search?a=1&o=date&ts_month=01&ts_day=1&ts_year=2014&te_month=01&te_day=1&te_year=2015&p=7\n",
      "https://www.jhunewsletter.com/search?a=1&o=date&ts_month=01&ts_day=1&ts_year=2014&te_month=01&te_day=1&te_year=2015&p=8\n",
      "https://www.jhunewsletter.com/search?a=1&o=date&ts_month=01&ts_day=1&ts_year=2015&te_month=01&te_day=1&te_year=2016\n",
      "https://www.jhunewsletter.com/search?a=1&o=date&ts_month=01&ts_day=1&ts_year=2015&te_month=01&te_day=1&te_year=2016&p=2\n",
      "https://www.jhunewsletter.com/search?a=1&o=date&ts_month=01&ts_day=1&ts_year=2015&te_month=01&te_day=1&te_year=2016&p=3\n",
      "https://www.jhunewsletter.com/search?a=1&o=date&ts_month=01&ts_day=1&ts_year=2015&te_month=01&te_day=1&te_year=2016&p=4\n",
      "https://www.jhunewsletter.com/search?a=1&o=date&ts_month=01&ts_day=1&ts_year=2015&te_month=01&te_day=1&te_year=2016&p=5\n",
      "https://www.jhunewsletter.com/search?a=1&o=date&ts_month=01&ts_day=1&ts_year=2015&te_month=01&te_day=1&te_year=2016&p=6\n",
      "https://www.jhunewsletter.com/search?a=1&o=date&ts_month=01&ts_day=1&ts_year=2015&te_month=01&te_day=1&te_year=2016&p=7\n",
      "https://www.jhunewsletter.com/search?a=1&o=date&ts_month=01&ts_day=1&ts_year=2015&te_month=01&te_day=1&te_year=2016&p=8\n",
      "https://www.jhunewsletter.com/search?a=1&o=date&ts_month=01&ts_day=1&ts_year=2016&te_month=01&te_day=1&te_year=2017\n",
      "https://www.jhunewsletter.com/search?a=1&o=date&ts_month=01&ts_day=1&ts_year=2016&te_month=01&te_day=1&te_year=2017&p=2\n",
      "https://www.jhunewsletter.com/search?a=1&o=date&ts_month=01&ts_day=1&ts_year=2016&te_month=01&te_day=1&te_year=2017&p=3\n",
      "https://www.jhunewsletter.com/search?a=1&o=date&ts_month=01&ts_day=1&ts_year=2016&te_month=01&te_day=1&te_year=2017&p=4\n",
      "https://www.jhunewsletter.com/search?a=1&o=date&ts_month=01&ts_day=1&ts_year=2016&te_month=01&te_day=1&te_year=2017&p=5\n",
      "https://www.jhunewsletter.com/search?a=1&o=date&ts_month=01&ts_day=1&ts_year=2016&te_month=01&te_day=1&te_year=2017&p=6\n",
      "https://www.jhunewsletter.com/search?a=1&o=date&ts_month=01&ts_day=1&ts_year=2016&te_month=01&te_day=1&te_year=2017&p=7\n",
      "https://www.jhunewsletter.com/search?a=1&o=date&ts_month=01&ts_day=1&ts_year=2016&te_month=01&te_day=1&te_year=2017&p=8\n",
      "https://www.jhunewsletter.com/search?a=1&o=date&ts_month=01&ts_day=1&ts_year=2017&te_month=01&te_day=1&te_year=2018\n",
      "https://www.jhunewsletter.com/search?a=1&o=date&ts_month=01&ts_day=1&ts_year=2017&te_month=01&te_day=1&te_year=2018&p=2\n",
      "https://www.jhunewsletter.com/search?a=1&o=date&ts_month=01&ts_day=1&ts_year=2017&te_month=01&te_day=1&te_year=2018&p=3\n",
      "https://www.jhunewsletter.com/search?a=1&o=date&ts_month=01&ts_day=1&ts_year=2017&te_month=01&te_day=1&te_year=2018&p=4\n",
      "https://www.jhunewsletter.com/search?a=1&o=date&ts_month=01&ts_day=1&ts_year=2017&te_month=01&te_day=1&te_year=2018&p=5\n",
      "https://www.jhunewsletter.com/search?a=1&o=date&ts_month=01&ts_day=1&ts_year=2017&te_month=01&te_day=1&te_year=2018&p=6\n",
      "https://www.jhunewsletter.com/search?a=1&o=date&ts_month=01&ts_day=1&ts_year=2017&te_month=01&te_day=1&te_year=2018&p=7\n",
      "https://www.jhunewsletter.com/search?a=1&o=date&ts_month=01&ts_day=1&ts_year=2017&te_month=01&te_day=1&te_year=2018&p=8\n",
      "https://www.jhunewsletter.com/search?a=1&o=date&ts_month=01&ts_day=1&ts_year=2018&te_month=01&te_day=1&te_year=2019\n",
      "https://www.jhunewsletter.com/search?a=1&o=date&ts_month=01&ts_day=1&ts_year=2018&te_month=01&te_day=1&te_year=2019&p=2\n",
      "https://www.jhunewsletter.com/search?a=1&o=date&ts_month=01&ts_day=1&ts_year=2018&te_month=01&te_day=1&te_year=2019&p=3\n",
      "https://www.jhunewsletter.com/search?a=1&o=date&ts_month=01&ts_day=1&ts_year=2018&te_month=01&te_day=1&te_year=2019&p=4\n",
      "https://www.jhunewsletter.com/search?a=1&o=date&ts_month=01&ts_day=1&ts_year=2018&te_month=01&te_day=1&te_year=2019&p=5\n",
      "https://www.jhunewsletter.com/search?a=1&o=date&ts_month=01&ts_day=1&ts_year=2018&te_month=01&te_day=1&te_year=2019&p=6\n",
      "https://www.jhunewsletter.com/search?a=1&o=date&ts_month=01&ts_day=1&ts_year=2018&te_month=01&te_day=1&te_year=2019&p=7\n",
      "https://www.jhunewsletter.com/search?a=1&o=date&ts_month=01&ts_day=1&ts_year=2018&te_month=01&te_day=1&te_year=2019&p=8\n",
      "https://www.jhunewsletter.com/search?a=1&o=date&ts_month=01&ts_day=1&ts_year=2019&te_month=01&te_day=1&te_year=2020\n",
      "https://www.jhunewsletter.com/search?a=1&o=date&ts_month=01&ts_day=1&ts_year=2019&te_month=01&te_day=1&te_year=2020&p=2\n",
      "https://www.jhunewsletter.com/search?a=1&o=date&ts_month=01&ts_day=1&ts_year=2019&te_month=01&te_day=1&te_year=2020&p=3\n",
      "https://www.jhunewsletter.com/search?a=1&o=date&ts_month=01&ts_day=1&ts_year=2019&te_month=01&te_day=1&te_year=2020&p=4\n",
      "https://www.jhunewsletter.com/search?a=1&o=date&ts_month=01&ts_day=1&ts_year=2019&te_month=01&te_day=1&te_year=2020&p=5\n",
      "https://www.jhunewsletter.com/search?a=1&o=date&ts_month=01&ts_day=1&ts_year=2019&te_month=01&te_day=1&te_year=2020&p=6\n",
      "https://www.jhunewsletter.com/search?a=1&o=date&ts_month=01&ts_day=1&ts_year=2019&te_month=01&te_day=1&te_year=2020&p=7\n",
      "https://www.jhunewsletter.com/search?a=1&o=date&ts_month=01&ts_day=1&ts_year=2019&te_month=01&te_day=1&te_year=2020&p=8\n",
      "https://www.jhunewsletter.com/search?a=1&o=date&ts_month=01&ts_day=1&ts_year=2020&te_month=01&te_day=1&te_year=2021\n",
      "https://www.jhunewsletter.com/search?a=1&o=date&ts_month=01&ts_day=1&ts_year=2020&te_month=01&te_day=1&te_year=2021&p=2\n",
      "https://www.jhunewsletter.com/search?a=1&o=date&ts_month=01&ts_day=1&ts_year=2020&te_month=01&te_day=1&te_year=2021&p=3\n",
      "https://www.jhunewsletter.com/search?a=1&o=date&ts_month=01&ts_day=1&ts_year=2020&te_month=01&te_day=1&te_year=2021&p=4\n",
      "https://www.jhunewsletter.com/search?a=1&o=date&ts_month=01&ts_day=1&ts_year=2020&te_month=01&te_day=1&te_year=2021&p=5\n",
      "https://www.jhunewsletter.com/search?a=1&o=date&ts_month=01&ts_day=1&ts_year=2020&te_month=01&te_day=1&te_year=2021&p=6\n",
      "https://www.jhunewsletter.com/search?a=1&o=date&ts_month=01&ts_day=1&ts_year=2020&te_month=01&te_day=1&te_year=2021&p=7\n",
      "https://www.jhunewsletter.com/search?a=1&o=date&ts_month=01&ts_day=1&ts_year=2020&te_month=01&te_day=1&te_year=2021&p=8\n",
      "https://www.jhunewsletter.com/search?a=1&o=date&ts_month=01&ts_day=1&ts_year=2021&te_month=01&te_day=1&te_year=2022\n",
      "https://www.jhunewsletter.com/search?a=1&o=date&ts_month=01&ts_day=1&ts_year=2021&te_month=01&te_day=1&te_year=2022&p=2\n",
      "https://www.jhunewsletter.com/search?a=1&o=date&ts_month=01&ts_day=1&ts_year=2021&te_month=01&te_day=1&te_year=2022&p=3\n",
      "https://www.jhunewsletter.com/search?a=1&o=date&ts_month=01&ts_day=1&ts_year=2021&te_month=01&te_day=1&te_year=2022&p=4\n",
      "https://www.jhunewsletter.com/search?a=1&o=date&ts_month=01&ts_day=1&ts_year=2021&te_month=01&te_day=1&te_year=2022&p=5\n",
      "https://www.jhunewsletter.com/search?a=1&o=date&ts_month=01&ts_day=1&ts_year=2021&te_month=01&te_day=1&te_year=2022&p=6\n",
      "https://www.jhunewsletter.com/search?a=1&o=date&ts_month=01&ts_day=1&ts_year=2021&te_month=01&te_day=1&te_year=2022&p=7\n",
      "https://www.jhunewsletter.com/search?a=1&o=date&ts_month=01&ts_day=1&ts_year=2021&te_month=01&te_day=1&te_year=2022&p=8\n",
      "https://www.jhunewsletter.com/search?a=1&o=date&ts_month=01&ts_day=1&ts_year=2022&te_month=01&te_day=1&te_year=2023\n",
      "https://www.jhunewsletter.com/search?a=1&o=date&ts_month=01&ts_day=1&ts_year=2022&te_month=01&te_day=1&te_year=2023&p=2\n",
      "https://www.jhunewsletter.com/search?a=1&o=date&ts_month=01&ts_day=1&ts_year=2022&te_month=01&te_day=1&te_year=2023&p=3\n",
      "https://www.jhunewsletter.com/search?a=1&o=date&ts_month=01&ts_day=1&ts_year=2022&te_month=01&te_day=1&te_year=2023&p=4\n",
      "https://www.jhunewsletter.com/search?a=1&o=date&ts_month=01&ts_day=1&ts_year=2022&te_month=01&te_day=1&te_year=2023&p=5\n",
      "https://www.jhunewsletter.com/search?a=1&o=date&ts_month=01&ts_day=1&ts_year=2022&te_month=01&te_day=1&te_year=2023&p=6\n",
      "https://www.jhunewsletter.com/search?a=1&o=date&ts_month=01&ts_day=1&ts_year=2022&te_month=01&te_day=1&te_year=2023&p=7\n",
      "https://www.jhunewsletter.com/search?a=1&o=date&ts_month=01&ts_day=1&ts_year=2022&te_month=01&te_day=1&te_year=2023&p=8\n",
      "https://www.jhunewsletter.com/search?a=1&o=date&ts_month=01&ts_day=1&ts_year=2023&te_month=01&te_day=1&te_year=2024\n"
     ]
    },
    {
     "name": "stderr",
     "output_type": "stream",
     "text": [
      " 92%|█████████▏| 2083/2260 [07:15<01:05,  2.69it/s]"
     ]
    },
    {
     "name": "stdout",
     "output_type": "stream",
     "text": [
      "Skipped invalid URL: . Error: Invalid URL '': No scheme supplied. Perhaps you meant https://?\n"
     ]
    },
    {
     "name": "stderr",
     "output_type": "stream",
     "text": [
      " 93%|█████████▎| 2105/2260 [07:30<01:22,  1.87it/s]"
     ]
    },
    {
     "name": "stdout",
     "output_type": "stream",
     "text": [
      "Skipped invalid URL: . Error: Invalid URL '': No scheme supplied. Perhaps you meant https://?\n"
     ]
    },
    {
     "name": "stderr",
     "output_type": "stream",
     "text": [
      " 94%|█████████▍| 2125/2260 [07:33<00:17,  7.74it/s]"
     ]
    },
    {
     "name": "stdout",
     "output_type": "stream",
     "text": [
      "Skipped invalid URL: . Error: Invalid URL '': No scheme supplied. Perhaps you meant https://?\n"
     ]
    },
    {
     "name": "stderr",
     "output_type": "stream",
     "text": [
      " 95%|█████████▍| 2145/2260 [07:36<00:13,  8.29it/s]"
     ]
    },
    {
     "name": "stdout",
     "output_type": "stream",
     "text": [
      "Skipped invalid URL: . Error: Invalid URL '': No scheme supplied. Perhaps you meant https://?\n"
     ]
    },
    {
     "name": "stderr",
     "output_type": "stream",
     "text": [
      " 96%|█████████▌| 2165/2260 [07:39<00:12,  7.44it/s]"
     ]
    },
    {
     "name": "stdout",
     "output_type": "stream",
     "text": [
      "Skipped invalid URL: . Error: Invalid URL '': No scheme supplied. Perhaps you meant https://?\n"
     ]
    },
    {
     "name": "stderr",
     "output_type": "stream",
     "text": [
      " 97%|█████████▋| 2185/2260 [07:42<00:10,  7.17it/s]"
     ]
    },
    {
     "name": "stdout",
     "output_type": "stream",
     "text": [
      "Skipped invalid URL: . Error: Invalid URL '': No scheme supplied. Perhaps you meant https://?\n"
     ]
    },
    {
     "name": "stderr",
     "output_type": "stream",
     "text": [
      " 98%|█████████▊| 2205/2260 [07:46<00:07,  7.36it/s]"
     ]
    },
    {
     "name": "stdout",
     "output_type": "stream",
     "text": [
      "Skipped invalid URL: . Error: Invalid URL '': No scheme supplied. Perhaps you meant https://?\n"
     ]
    },
    {
     "name": "stderr",
     "output_type": "stream",
     "text": [
      " 98%|█████████▊| 2225/2260 [07:49<00:04,  8.28it/s]"
     ]
    },
    {
     "name": "stdout",
     "output_type": "stream",
     "text": [
      "Skipped invalid URL: . Error: Invalid URL '': No scheme supplied. Perhaps you meant https://?\n"
     ]
    },
    {
     "name": "stderr",
     "output_type": "stream",
     "text": [
      "100%|██████████| 2260/2260 [08:14<00:00,  4.57it/s]"
     ]
    },
    {
     "name": "stdout",
     "output_type": "stream",
     "text": [
      "Article links and dates saved to jh_article_pages.json.\n"
     ]
    },
    {
     "name": "stderr",
     "output_type": "stream",
     "text": [
      "\n"
     ]
    }
   ],
   "source": [
    "import datetime\n",
    "\n",
    "def get_search_links():\n",
    "    base_url = \"https://www.jhunewsletter.com/search?a=1&o=date\"\n",
    "    subpages = []\n",
    "\n",
    "    # Get current date\n",
    "    current_date = datetime.date.today()\n",
    "\n",
    "    # Start from the year 2009\n",
    "    year = 2009\n",
    "\n",
    "    while year <= current_date.year:\n",
    "        # Set the start and end dates for each search link\n",
    "        start_date = datetime.date(year, 1, 1)\n",
    "        end_date = datetime.date(year + 1, 1, 1) if year < current_date.year else current_date\n",
    "\n",
    "        # Generate the search link using the start and end dates\n",
    "        search_link = f\"{base_url}&ts_month=01&ts_day=1&ts_year={year}&te_month=01&te_day=1&te_year={year+1}\"\n",
    "\n",
    "        # Append the search link to the list\n",
    "        subpages.append(search_link)\n",
    "\n",
    "        # Check if there are more than 50 subpages for the current year\n",
    "        if start_date.year != end_date.year and (end_date - start_date).days > 50:\n",
    "            # Generate additional links to cover the remaining subpages\n",
    "            remaining_subpages = (end_date - start_date).days // 50\n",
    "\n",
    "            for i in range(1, remaining_subpages + 1):\n",
    "                # Generate the additional search links\n",
    "                additional_link = f\"{search_link}&p={i+1}\"\n",
    "                subpages.append(additional_link)\n",
    "\n",
    "        year += 1\n",
    "\n",
    "    return subpages\n",
    "\n",
    "# Usage\n",
    "subpages_list = get_search_links()\n",
    "for link in subpages_list:\n",
    "    print(link)\n",
    "\n",
    "import datetime\n",
    "import json\n",
    "import requests\n",
    "from bs4 import BeautifulSoup\n",
    "from tqdm import tqdm\n",
    "\n",
    "def parse_date(date_text):\n",
    "    try:\n",
    "        # Try parsing with \"%m/%d/%y %I:%M%p\" format\n",
    "        date = datetime.datetime.strptime(date_text, \"%m/%d/%y %I:%M%p\")\n",
    "    except ValueError:\n",
    "        # Try parsing with \"%m/%d/%y\" format\n",
    "        date = datetime.datetime.strptime(date_text, \"%m/%d/%y\")\n",
    "\n",
    "    return date.strftime(\"%Y_%m_%d\")\n",
    "\n",
    "def get_subpage_links(subpages):\n",
    "    subpage_links = []\n",
    "\n",
    "    for subpage in subpages:\n",
    "        response = requests.get(subpage)\n",
    "        soup = BeautifulSoup(response.content, \"html.parser\")\n",
    "\n",
    "        articles = soup.find_all(\"article\", class_=\"clearfix\")\n",
    "        for article in articles:\n",
    "            subpage_link = article.find(\"div\", class_=\"smaller text-break\").a[\"href\"]\n",
    "            subpage_links.append(subpage_link)\n",
    "\n",
    "    return subpage_links\n",
    "\n",
    "def get_search_links():\n",
    "    base_url = \"https://www.jhunewsletter.com/search?a=1&o=date\"\n",
    "    subpages = []\n",
    "\n",
    "    # Get current date\n",
    "    current_date = datetime.date.today()\n",
    "\n",
    "    # Start from the year 2009\n",
    "    year = 2009\n",
    "\n",
    "    while year <= current_date.year:\n",
    "        # Set the start and end dates for each search link\n",
    "        start_date = datetime.date(year, 1, 1)\n",
    "        end_date = datetime.date(year + 1, 1, 1) if year < current_date.year else current_date\n",
    "\n",
    "        # Generate the search link using the start and end dates\n",
    "        search_link = f\"{base_url}&ts_month=01&ts_day=1&ts_year={year}&te_month=01&te_day=1&te_year={year+1}\"\n",
    "\n",
    "        # Append the search link to the list\n",
    "        subpages.append(search_link)\n",
    "\n",
    "        # Check if there are more than 50 subpages for the current year\n",
    "        if start_date.year != end_date.year and (end_date - start_date).days > 50:\n",
    "            # Generate additional links to cover the remaining subpages\n",
    "            remaining_subpages = (end_date - start_date).days // 50\n",
    "\n",
    "            for i in range(1, remaining_subpages + 1):\n",
    "                # Generate the additional search links\n",
    "                additional_link = f\"{search_link}&p={i+1}\"\n",
    "                subpages.append(additional_link)\n",
    "\n",
    "        year += 1\n",
    "\n",
    "    return subpages\n",
    "\n",
    "def get_article_links_and_dates(subpage_links):\n",
    "    article_links_and_dates = {}\n",
    "\n",
    "    with tqdm(total=len(subpage_links)) as pbar:\n",
    "        for subpage_link in subpage_links:\n",
    "            try:\n",
    "                response = requests.get(subpage_link)\n",
    "                response.raise_for_status()  # Raise an exception for invalid response status codes\n",
    "                soup = BeautifulSoup(response.content, \"html.parser\")\n",
    "\n",
    "                articles = soup.find_all(\"article\", class_=\"clearfix\")\n",
    "                for article in articles:\n",
    "                    title = article.find(\"h4\").text.strip()\n",
    "                    link = article.find(\"a\")[\"href\"]\n",
    "                    date_text = article.find(\"div\", class_=\"smaller\").text.strip().strip(\"()\")\n",
    "                    date = parse_date(date_text)\n",
    "\n",
    "                    if date >= \"2009_01_01\":\n",
    "                        if date not in article_links_and_dates:\n",
    "                            article_links_and_dates[date] = []\n",
    "\n",
    "                        if link not in article_links_and_dates[date]:\n",
    "                            article_links_and_dates[date].append(link)\n",
    "                            print(f\"Added article with date {date}: {link}\")\n",
    "            except (requests.exceptions.RequestException, requests.exceptions.HTTPError) as e:\n",
    "                print(f\"Skipped invalid URL: {subpage_link}. Error: {str(e)}\")\n",
    "\n",
    "            pbar.update(1)\n",
    "\n",
    "    return article_links_and_dates\n",
    "\n",
    "# Usage\n",
    "subpages_list = get_search_links()\n",
    "subpage_links = get_subpage_links(subpages_list)\n",
    "article_links_and_dates_dict = get_article_links_and_dates(subpage_links)\n",
    "\n",
    "# Save the article links and dates into a JSON file\n",
    "output_file = \"jh_article_pages.json\"\n",
    "with open(output_file, \"w\") as file:\n",
    "    json.dump(article_links_and_dates_dict, file, indent=4)\n",
    "\n",
    "print(f\"Article links and dates saved to {output_file}.\")"
   ]
  }
 ],
 "metadata": {
  "kernelspec": {
   "display_name": "Python 3",
   "language": "python",
   "name": "python3"
  },
  "language_info": {
   "codemirror_mode": {
    "name": "ipython",
    "version": 3
   },
   "file_extension": ".py",
   "mimetype": "text/x-python",
   "name": "python",
   "nbconvert_exporter": "python",
   "pygments_lexer": "ipython3",
   "version": "3.10.11"
  },
  "orig_nbformat": 4
 },
 "nbformat": 4,
 "nbformat_minor": 2
}
