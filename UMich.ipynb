{
 "cells": [
  {
   "cell_type": "code",
   "execution_count": 9,
   "metadata": {},
   "outputs": [
    {
     "name": "stdout",
     "output_type": "stream",
     "text": [
      "['https://digital.bentley.umich.edu/midaily/search?date_filter=after&date_filter_options%5Bbegin%5D%5Bfld%5D=date_issued_yyyymmdd_ti&date_filter_options%5Bbegin%5D%5Bvalue%5D=20081231&date_issued_begin_dd=31&date_issued_begin_mm=12&date_issued_begin_yyyy=2008&f%5Bissue_sequence_field%5D%5B%5D=issue_sequence_1&q=&search_field=all_fields&page=1', 'https://digital.bentley.umich.edu/midaily/search?date_filter=after&date_filter_options%5Bbegin%5D%5Bfld%5D=date_issued_yyyymmdd_ti&date_filter_options%5Bbegin%5D%5Bvalue%5D=20081231&date_issued_begin_dd=31&date_issued_begin_mm=12&date_issued_begin_yyyy=2008&f%5Bissue_sequence_field%5D%5B%5D=issue_sequence_1&q=&search_field=all_fields&page=2', 'https://digital.bentley.umich.edu/midaily/search?date_filter=after&date_filter_options%5Bbegin%5D%5Bfld%5D=date_issued_yyyymmdd_ti&date_filter_options%5Bbegin%5D%5Bvalue%5D=20081231&date_issued_begin_dd=31&date_issued_begin_mm=12&date_issued_begin_yyyy=2008&f%5Bissue_sequence_field%5D%5B%5D=issue_sequence_1&q=&search_field=all_fields&page=3', 'https://digital.bentley.umich.edu/midaily/search?date_filter=after&date_filter_options%5Bbegin%5D%5Bfld%5D=date_issued_yyyymmdd_ti&date_filter_options%5Bbegin%5D%5Bvalue%5D=20081231&date_issued_begin_dd=31&date_issued_begin_mm=12&date_issued_begin_yyyy=2008&f%5Bissue_sequence_field%5D%5B%5D=issue_sequence_1&q=&search_field=all_fields&page=4', 'https://digital.bentley.umich.edu/midaily/search?date_filter=after&date_filter_options%5Bbegin%5D%5Bfld%5D=date_issued_yyyymmdd_ti&date_filter_options%5Bbegin%5D%5Bvalue%5D=20081231&date_issued_begin_dd=31&date_issued_begin_mm=12&date_issued_begin_yyyy=2008&f%5Bissue_sequence_field%5D%5B%5D=issue_sequence_1&q=&search_field=all_fields&page=5', 'https://digital.bentley.umich.edu/midaily/search?date_filter=after&date_filter_options%5Bbegin%5D%5Bfld%5D=date_issued_yyyymmdd_ti&date_filter_options%5Bbegin%5D%5Bvalue%5D=20081231&date_issued_begin_dd=31&date_issued_begin_mm=12&date_issued_begin_yyyy=2008&f%5Bissue_sequence_field%5D%5B%5D=issue_sequence_1&q=&search_field=all_fields&page=6', 'https://digital.bentley.umich.edu/midaily/search?date_filter=after&date_filter_options%5Bbegin%5D%5Bfld%5D=date_issued_yyyymmdd_ti&date_filter_options%5Bbegin%5D%5Bvalue%5D=20081231&date_issued_begin_dd=31&date_issued_begin_mm=12&date_issued_begin_yyyy=2008&f%5Bissue_sequence_field%5D%5B%5D=issue_sequence_1&q=&search_field=all_fields&page=7', 'https://digital.bentley.umich.edu/midaily/search?date_filter=after&date_filter_options%5Bbegin%5D%5Bfld%5D=date_issued_yyyymmdd_ti&date_filter_options%5Bbegin%5D%5Bvalue%5D=20081231&date_issued_begin_dd=31&date_issued_begin_mm=12&date_issued_begin_yyyy=2008&f%5Bissue_sequence_field%5D%5B%5D=issue_sequence_1&q=&search_field=all_fields&page=8', 'https://digital.bentley.umich.edu/midaily/search?date_filter=after&date_filter_options%5Bbegin%5D%5Bfld%5D=date_issued_yyyymmdd_ti&date_filter_options%5Bbegin%5D%5Bvalue%5D=20081231&date_issued_begin_dd=31&date_issued_begin_mm=12&date_issued_begin_yyyy=2008&f%5Bissue_sequence_field%5D%5B%5D=issue_sequence_1&q=&search_field=all_fields&page=9', 'https://digital.bentley.umich.edu/midaily/search?date_filter=after&date_filter_options%5Bbegin%5D%5Bfld%5D=date_issued_yyyymmdd_ti&date_filter_options%5Bbegin%5D%5Bvalue%5D=20081231&date_issued_begin_dd=31&date_issued_begin_mm=12&date_issued_begin_yyyy=2008&f%5Bissue_sequence_field%5D%5B%5D=issue_sequence_1&q=&search_field=all_fields&page=10', 'https://digital.bentley.umich.edu/midaily/search?date_filter=after&date_filter_options%5Bbegin%5D%5Bfld%5D=date_issued_yyyymmdd_ti&date_filter_options%5Bbegin%5D%5Bvalue%5D=20081231&date_issued_begin_dd=31&date_issued_begin_mm=12&date_issued_begin_yyyy=2008&f%5Bissue_sequence_field%5D%5B%5D=issue_sequence_1&q=&search_field=all_fields&page=11', 'https://digital.bentley.umich.edu/midaily/search?date_filter=after&date_filter_options%5Bbegin%5D%5Bfld%5D=date_issued_yyyymmdd_ti&date_filter_options%5Bbegin%5D%5Bvalue%5D=20081231&date_issued_begin_dd=31&date_issued_begin_mm=12&date_issued_begin_yyyy=2008&f%5Bissue_sequence_field%5D%5B%5D=issue_sequence_1&q=&search_field=all_fields&page=12', 'https://digital.bentley.umich.edu/midaily/search?date_filter=after&date_filter_options%5Bbegin%5D%5Bfld%5D=date_issued_yyyymmdd_ti&date_filter_options%5Bbegin%5D%5Bvalue%5D=20081231&date_issued_begin_dd=31&date_issued_begin_mm=12&date_issued_begin_yyyy=2008&f%5Bissue_sequence_field%5D%5B%5D=issue_sequence_1&q=&search_field=all_fields&page=13', 'https://digital.bentley.umich.edu/midaily/search?date_filter=after&date_filter_options%5Bbegin%5D%5Bfld%5D=date_issued_yyyymmdd_ti&date_filter_options%5Bbegin%5D%5Bvalue%5D=20081231&date_issued_begin_dd=31&date_issued_begin_mm=12&date_issued_begin_yyyy=2008&f%5Bissue_sequence_field%5D%5B%5D=issue_sequence_1&q=&search_field=all_fields&page=14', 'https://digital.bentley.umich.edu/midaily/search?date_filter=after&date_filter_options%5Bbegin%5D%5Bfld%5D=date_issued_yyyymmdd_ti&date_filter_options%5Bbegin%5D%5Bvalue%5D=20081231&date_issued_begin_dd=31&date_issued_begin_mm=12&date_issued_begin_yyyy=2008&f%5Bissue_sequence_field%5D%5B%5D=issue_sequence_1&q=&search_field=all_fields&page=15', 'https://digital.bentley.umich.edu/midaily/search?date_filter=after&date_filter_options%5Bbegin%5D%5Bfld%5D=date_issued_yyyymmdd_ti&date_filter_options%5Bbegin%5D%5Bvalue%5D=20081231&date_issued_begin_dd=31&date_issued_begin_mm=12&date_issued_begin_yyyy=2008&f%5Bissue_sequence_field%5D%5B%5D=issue_sequence_1&q=&search_field=all_fields&page=16', 'https://digital.bentley.umich.edu/midaily/search?date_filter=after&date_filter_options%5Bbegin%5D%5Bfld%5D=date_issued_yyyymmdd_ti&date_filter_options%5Bbegin%5D%5Bvalue%5D=20081231&date_issued_begin_dd=31&date_issued_begin_mm=12&date_issued_begin_yyyy=2008&f%5Bissue_sequence_field%5D%5B%5D=issue_sequence_1&q=&search_field=all_fields&page=17', 'https://digital.bentley.umich.edu/midaily/search?date_filter=after&date_filter_options%5Bbegin%5D%5Bfld%5D=date_issued_yyyymmdd_ti&date_filter_options%5Bbegin%5D%5Bvalue%5D=20081231&date_issued_begin_dd=31&date_issued_begin_mm=12&date_issued_begin_yyyy=2008&f%5Bissue_sequence_field%5D%5B%5D=issue_sequence_1&q=&search_field=all_fields&page=18', 'https://digital.bentley.umich.edu/midaily/search?date_filter=after&date_filter_options%5Bbegin%5D%5Bfld%5D=date_issued_yyyymmdd_ti&date_filter_options%5Bbegin%5D%5Bvalue%5D=20081231&date_issued_begin_dd=31&date_issued_begin_mm=12&date_issued_begin_yyyy=2008&f%5Bissue_sequence_field%5D%5B%5D=issue_sequence_1&q=&search_field=all_fields&page=19', 'https://digital.bentley.umich.edu/midaily/search?date_filter=after&date_filter_options%5Bbegin%5D%5Bfld%5D=date_issued_yyyymmdd_ti&date_filter_options%5Bbegin%5D%5Bvalue%5D=20081231&date_issued_begin_dd=31&date_issued_begin_mm=12&date_issued_begin_yyyy=2008&f%5Bissue_sequence_field%5D%5B%5D=issue_sequence_1&q=&search_field=all_fields&page=20', 'https://digital.bentley.umich.edu/midaily/search?date_filter=after&date_filter_options%5Bbegin%5D%5Bfld%5D=date_issued_yyyymmdd_ti&date_filter_options%5Bbegin%5D%5Bvalue%5D=20081231&date_issued_begin_dd=31&date_issued_begin_mm=12&date_issued_begin_yyyy=2008&f%5Bissue_sequence_field%5D%5B%5D=issue_sequence_1&q=&search_field=all_fields&page=21', 'https://digital.bentley.umich.edu/midaily/search?date_filter=after&date_filter_options%5Bbegin%5D%5Bfld%5D=date_issued_yyyymmdd_ti&date_filter_options%5Bbegin%5D%5Bvalue%5D=20081231&date_issued_begin_dd=31&date_issued_begin_mm=12&date_issued_begin_yyyy=2008&f%5Bissue_sequence_field%5D%5B%5D=issue_sequence_1&q=&search_field=all_fields&page=22', 'https://digital.bentley.umich.edu/midaily/search?date_filter=after&date_filter_options%5Bbegin%5D%5Bfld%5D=date_issued_yyyymmdd_ti&date_filter_options%5Bbegin%5D%5Bvalue%5D=20081231&date_issued_begin_dd=31&date_issued_begin_mm=12&date_issued_begin_yyyy=2008&f%5Bissue_sequence_field%5D%5B%5D=issue_sequence_1&q=&search_field=all_fields&page=23', 'https://digital.bentley.umich.edu/midaily/search?date_filter=after&date_filter_options%5Bbegin%5D%5Bfld%5D=date_issued_yyyymmdd_ti&date_filter_options%5Bbegin%5D%5Bvalue%5D=20081231&date_issued_begin_dd=31&date_issued_begin_mm=12&date_issued_begin_yyyy=2008&f%5Bissue_sequence_field%5D%5B%5D=issue_sequence_1&q=&search_field=all_fields&page=24', 'https://digital.bentley.umich.edu/midaily/search?date_filter=after&date_filter_options%5Bbegin%5D%5Bfld%5D=date_issued_yyyymmdd_ti&date_filter_options%5Bbegin%5D%5Bvalue%5D=20081231&date_issued_begin_dd=31&date_issued_begin_mm=12&date_issued_begin_yyyy=2008&f%5Bissue_sequence_field%5D%5B%5D=issue_sequence_1&q=&search_field=all_fields&page=25', 'https://digital.bentley.umich.edu/midaily/search?date_filter=after&date_filter_options%5Bbegin%5D%5Bfld%5D=date_issued_yyyymmdd_ti&date_filter_options%5Bbegin%5D%5Bvalue%5D=20081231&date_issued_begin_dd=31&date_issued_begin_mm=12&date_issued_begin_yyyy=2008&f%5Bissue_sequence_field%5D%5B%5D=issue_sequence_1&q=&search_field=all_fields&page=26', 'https://digital.bentley.umich.edu/midaily/search?date_filter=after&date_filter_options%5Bbegin%5D%5Bfld%5D=date_issued_yyyymmdd_ti&date_filter_options%5Bbegin%5D%5Bvalue%5D=20081231&date_issued_begin_dd=31&date_issued_begin_mm=12&date_issued_begin_yyyy=2008&f%5Bissue_sequence_field%5D%5B%5D=issue_sequence_1&q=&search_field=all_fields&page=27', 'https://digital.bentley.umich.edu/midaily/search?date_filter=after&date_filter_options%5Bbegin%5D%5Bfld%5D=date_issued_yyyymmdd_ti&date_filter_options%5Bbegin%5D%5Bvalue%5D=20081231&date_issued_begin_dd=31&date_issued_begin_mm=12&date_issued_begin_yyyy=2008&f%5Bissue_sequence_field%5D%5B%5D=issue_sequence_1&q=&search_field=all_fields&page=28', 'https://digital.bentley.umich.edu/midaily/search?date_filter=after&date_filter_options%5Bbegin%5D%5Bfld%5D=date_issued_yyyymmdd_ti&date_filter_options%5Bbegin%5D%5Bvalue%5D=20081231&date_issued_begin_dd=31&date_issued_begin_mm=12&date_issued_begin_yyyy=2008&f%5Bissue_sequence_field%5D%5B%5D=issue_sequence_1&q=&search_field=all_fields&page=29', 'https://digital.bentley.umich.edu/midaily/search?date_filter=after&date_filter_options%5Bbegin%5D%5Bfld%5D=date_issued_yyyymmdd_ti&date_filter_options%5Bbegin%5D%5Bvalue%5D=20081231&date_issued_begin_dd=31&date_issued_begin_mm=12&date_issued_begin_yyyy=2008&f%5Bissue_sequence_field%5D%5B%5D=issue_sequence_1&q=&search_field=all_fields&page=30', 'https://digital.bentley.umich.edu/midaily/search?date_filter=after&date_filter_options%5Bbegin%5D%5Bfld%5D=date_issued_yyyymmdd_ti&date_filter_options%5Bbegin%5D%5Bvalue%5D=20081231&date_issued_begin_dd=31&date_issued_begin_mm=12&date_issued_begin_yyyy=2008&f%5Bissue_sequence_field%5D%5B%5D=issue_sequence_1&q=&search_field=all_fields&page=31', 'https://digital.bentley.umich.edu/midaily/search?date_filter=after&date_filter_options%5Bbegin%5D%5Bfld%5D=date_issued_yyyymmdd_ti&date_filter_options%5Bbegin%5D%5Bvalue%5D=20081231&date_issued_begin_dd=31&date_issued_begin_mm=12&date_issued_begin_yyyy=2008&f%5Bissue_sequence_field%5D%5B%5D=issue_sequence_1&q=&search_field=all_fields&page=32', 'https://digital.bentley.umich.edu/midaily/search?date_filter=after&date_filter_options%5Bbegin%5D%5Bfld%5D=date_issued_yyyymmdd_ti&date_filter_options%5Bbegin%5D%5Bvalue%5D=20081231&date_issued_begin_dd=31&date_issued_begin_mm=12&date_issued_begin_yyyy=2008&f%5Bissue_sequence_field%5D%5B%5D=issue_sequence_1&q=&search_field=all_fields&page=33', 'https://digital.bentley.umich.edu/midaily/search?date_filter=after&date_filter_options%5Bbegin%5D%5Bfld%5D=date_issued_yyyymmdd_ti&date_filter_options%5Bbegin%5D%5Bvalue%5D=20081231&date_issued_begin_dd=31&date_issued_begin_mm=12&date_issued_begin_yyyy=2008&f%5Bissue_sequence_field%5D%5B%5D=issue_sequence_1&q=&search_field=all_fields&page=34', 'https://digital.bentley.umich.edu/midaily/search?date_filter=after&date_filter_options%5Bbegin%5D%5Bfld%5D=date_issued_yyyymmdd_ti&date_filter_options%5Bbegin%5D%5Bvalue%5D=20081231&date_issued_begin_dd=31&date_issued_begin_mm=12&date_issued_begin_yyyy=2008&f%5Bissue_sequence_field%5D%5B%5D=issue_sequence_1&q=&search_field=all_fields&page=35', 'https://digital.bentley.umich.edu/midaily/search?date_filter=after&date_filter_options%5Bbegin%5D%5Bfld%5D=date_issued_yyyymmdd_ti&date_filter_options%5Bbegin%5D%5Bvalue%5D=20081231&date_issued_begin_dd=31&date_issued_begin_mm=12&date_issued_begin_yyyy=2008&f%5Bissue_sequence_field%5D%5B%5D=issue_sequence_1&q=&search_field=all_fields&page=36']\n"
     ]
    }
   ],
   "source": [
    "# Seems as though the page content is fetched, and so for now the sub-pages are found algorithmically\n",
    "base_url = \"https://digital.bentley.umich.edu/midaily/search?date_filter=after&date_filter_options%5Bbegin%5D%5Bfld%5D=date_issued_yyyymmdd_ti&date_filter_options%5Bbegin%5D%5Bvalue%5D=20081231&date_issued_begin_dd=31&date_issued_begin_mm=12&date_issued_begin_yyyy=2008&f%5Bissue_sequence_field%5D%5B%5D=issue_sequence_1&q=&search_field=all_fields&page=\"\n",
    "page_number = 1\n",
    "max_page_number = 36 # HARD CODED\n",
    "sub_pages = [base_url + str(page_number) for page_number in range(1,max_page_number + 1)]\n",
    "print(sub_pages)\n"
   ]
  },
  {
   "cell_type": "code",
   "execution_count": 14,
   "metadata": {},
   "outputs": [
    {
     "name": "stdout",
     "output_type": "stream",
     "text": [
      "['/midaily/mdp.39015071755214/361', '/midaily/mdp.39015071755214/349', '/midaily/mdp.39015071755214/341', '/midaily/mdp.39015071755214/329', '/midaily/mdp.39015071755214/317', '/midaily/mdp.39015071755214/309', '/midaily/mdp.39015071755214/297', '/midaily/mdp.39015071755214/289', '/midaily/mdp.39015071755214/273', '/midaily/mdp.39015071755214/261', '/midaily/mdp.39015071755214/253', '/midaily/mdp.39015071755214/241', '/midaily/mdp.39015071755214/233', '/midaily/mdp.39015071755214/221', '/midaily/mdp.39015071755214/209', '/midaily/mdp.39015071755214/201', '/midaily/mdp.39015071755214/189', '/midaily/mdp.39015071755214/181', '/midaily/mdp.39015071755214/169', '/midaily/mdp.39015071755214/157', '/midaily/mdp.39015071755214/149', '/midaily/mdp.39015071755214/137', '/midaily/mdp.39015071755214/129', '/midaily/mdp.39015071755214/117', '/midaily/mdp.39015071755214/105', '/midaily/mdp.39015071755214/93', '/midaily/mdp.39015071755214/85', '/midaily/mdp.39015071755214/73', '/midaily/mdp.39015071755214/61', '/midaily/mdp.39015071755214/51', '/midaily/mdp.39015071755214/39', '/midaily/mdp.39015071755214/31', '/midaily/mdp.39015071755214/19', '/midaily/mdp.39015071755214/3']\n"
     ]
    }
   ],
   "source": [
    "from selenium import webdriver\n",
    "from selenium.webdriver.support.ui import WebDriverWait\n",
    "from selenium.webdriver.support import expected_conditions as EC\n",
    "from selenium.webdriver.common.by import By\n",
    "from bs4 import BeautifulSoup\n",
    "\n",
    "# set up Selenium webdriver\n",
    "driver = webdriver.Chrome()\n",
    "driver.get(\"https://digital.bentley.umich.edu/midaily/search?date_filter=after&date_filter_options%5Bbegin%5D%5Bfld%5D=date_issued_yyyymmdd_ti&date_filter_options%5Bbegin%5D%5Bvalue%5D=20081231&date_issued_begin_dd=31&date_issued_begin_mm=12&date_issued_begin_yyyy=2008&f%5Bissue_sequence_field%5D%5B%5D=issue_sequence_1&page=36&q=&search_field=all_fields\")\n",
    "\n",
    "# wait for the element to load using WebDriverWait\n",
    "wait = WebDriverWait(driver, 10)\n",
    "element = wait.until(EC.presence_of_element_located((By.CLASS_NAME, \"documents-list\")))\n",
    "\n",
    "# use Beautiful Soup to scrape the page\n",
    "soup = BeautifulSoup(driver.page_source, \"html.parser\")\n",
    "# do something with the soup object\n",
    "links = []\n",
    "for div in soup.find_all(\"div\", class_=\"row-article-text\"):\n",
    "    for a in div.find_all(\"a\", href=True):\n",
    "        if a[\"href\"].startswith(\"/midaily\"):\n",
    "            links.append(a['href'])\n",
    "print(links)\n",
    "\n",
    "# close the webdriver\n",
    "driver.quit()"
   ]
  },
  {
   "cell_type": "code",
   "execution_count": null,
   "metadata": {},
   "outputs": [],
   "source": [
    "import urllib.request\n",
    "import zipfile\n",
    "import os\n",
    "\n",
    "# Replace this with the URL of the zip file you want to download\n",
    "url = \"https://digital.bentley.umich.edu/midaily/midaily.2022.04.24.001/1/download_issue_text\"\n",
    "\n",
    "# Download the zip file\n",
    "urllib.request.urlretrieve(url, \"example.zip\")\n",
    "\n",
    "text = \"\"\n",
    "\n",
    "# Open the zip file\n",
    "with zipfile.ZipFile(\"example.zip\", \"r\") as zip_file:\n",
    "\n",
    "    # Go to the zip subdirectory\n",
    "    zip_file.extractall(path=\"extracted\")\n",
    "    path = \"extracted/midaily_midaily.2022.04.24.001/\"\n",
    "    for file_name in os.listdir(path):\n",
    "        # Read in and concatenate the text in each .txt file\n",
    "        if file_name.endswith(\".txt\") and file_name != \"README.txt\":\n",
    "            with open(path + file_name) as file:\n",
    "                text += file.read()\n",
    "\n",
    "with open(\"ex.txt\", \"w\") as f:\n",
    "    f.write(text)\n"
   ]
  }
 ],
 "metadata": {
  "kernelspec": {
   "display_name": "Python 3",
   "language": "python",
   "name": "python3"
  },
  "language_info": {
   "codemirror_mode": {
    "name": "ipython",
    "version": 3
   },
   "file_extension": ".py",
   "mimetype": "text/x-python",
   "name": "python",
   "nbconvert_exporter": "python",
   "pygments_lexer": "ipython3",
   "version": "3.9.16"
  },
  "orig_nbformat": 4
 },
 "nbformat": 4,
 "nbformat_minor": 2
}
