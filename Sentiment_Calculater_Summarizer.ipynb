{
 "cells": [
  {
   "cell_type": "code",
   "execution_count": 1,
   "metadata": {},
   "outputs": [],
   "source": [
    "SCHOOL = \"McGill\"\n",
    "data_path = f\"bias_processing/data/1/{SCHOOL.lower()}_dataset.csv\"\n",
    "output_path = f\"bias_processing/data/3/{SCHOOL.lower()}_dataset_summarizer.csv\""
   ]
  },
  {
   "cell_type": "code",
   "execution_count": null,
   "metadata": {},
   "outputs": [],
   "source": [
    "\"\"\"\n",
    "Load in a csv from Sentiment_Dataset_Maker and add 4x3x3 columns\n",
    "4 topics (\"Israel\", \"Palestine\", \"India\", \"China\")\n",
    "3 hypotheses for sentiment (Positive, Negative, Neutral)\n",
    "3 levels of granularity\n",
    "Compute sentiment for entire article\n",
    "Compute sentiment for each paragraph in an article, take maximum for Positive and Negative, average for neutral\n",
    "Make 'average' and 'max' options to a function call so we can change if need be\n",
    "Compute sentiment for each sentence in an article, similar to paragraph approach\n",
    "Save a new csv with these added columns\n",
    "\"\"\""
   ]
  }
 ],
 "metadata": {
  "kernelspec": {
   "display_name": "Python 3",
   "language": "python",
   "name": "python3"
  },
  "language_info": {
   "codemirror_mode": {
    "name": "ipython",
    "version": 3
   },
   "file_extension": ".py",
   "mimetype": "text/x-python",
   "name": "python",
   "nbconvert_exporter": "python",
   "pygments_lexer": "ipython3",
   "version": "3.9.6"
  },
  "orig_nbformat": 4
 },
 "nbformat": 4,
 "nbformat_minor": 2
}
