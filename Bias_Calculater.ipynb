{
 "cells": [
  {
   "cell_type": "code",
   "execution_count": null,
   "metadata": {},
   "outputs": [],
   "source": [
    "SCHOOL = \"McGill\"\n",
    "data_path = f\"bias_processing/data/2/{SCHOOL.lower()}_dataset_granularity.csv\"\n",
    "alternative_data_path = f\"bias_processing/data/3/{SCHOOL.lower()}_dataset_summarizer.csv\"\n",
    "output_path = f\"bias_processing/data/4/{SCHOOL.lower()}_bias.csv\""
   ]
  },
  {
   "cell_type": "code",
   "execution_count": null,
   "metadata": {},
   "outputs": [],
   "source": [
    "\"\"\"\n",
    "Given a csv from one of the Sentiment_Calculator notebooks, calculate bias by doing the following:\n",
    "Group by topic, and consider that 1 series\n",
    "Compute variance between series of sentiment for entire article granularity and sentence-granularity for each of the labels (Positive, Negative, Neutral) leaving you with 3 values\n",
    "Average these values (add functionality to take max as well) and assume this to be 'bias'\n",
    "Store the bias for a given school as a csv with the columns of School_Name, Israel_Bias, Palestine_Bias, India_Bias, China_Bias\n",
    "Save a new csv with this entry, or load in a csv of past schools with these columns and add this row to the bottom\n",
    "\"\"\""
   ]
  }
 ],
 "metadata": {
  "language_info": {
   "name": "python"
  },
  "orig_nbformat": 4
 },
 "nbformat": 4,
 "nbformat_minor": 2
}
